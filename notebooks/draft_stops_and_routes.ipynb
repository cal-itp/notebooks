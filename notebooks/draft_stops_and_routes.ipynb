{
 "cells": [
  {
   "cell_type": "markdown",
   "metadata": {},
   "source": [
    "# Statewide Stops and Routes Dataframes"
   ]
  },
  {
   "cell_type": "code",
   "execution_count": 21,
   "metadata": {},
   "outputs": [],
   "source": [
    "import gcsfs\n",
    "import pandas as pd\n",
    "\n",
    "BUCKET = \"gs://gtfs-data-test/schedule/2021-04-11T00:00:00+00:00\"\n",
    "fs = gcsfs.GCSFileSystem(project='cal-itp-data-infra')\n",
    "status = pd.read_csv(fs.open(f'{BUCKET}/status.csv'))\n",
    "stops = fs.glob(f'{BUCKET}/*/*/processed/stops.txt')\n",
    "agency = fs.glob(f'{BUCKET}/*/*/processed/agency.txt')\n",
    "routes = fs.glob(f'{BUCKET}/*/*/processed/routes.txt')"
   ]
  },
  {
   "cell_type": "code",
   "execution_count": 23,
   "metadata": {},
   "outputs": [
    {
     "name": "stdout",
     "output_type": "stream",
     "text": [
      "agency not processed: gs://gtfs-data-test/schedule/2021-04-11T00:00:00+00:00/232/0\n"
     ]
    }
   ],
   "source": [
    "def read_gtfs_data(path, itp_id, url_number):\n",
    "    df = pd.read_csv(fs.open(path))\n",
    "    return df.assign(\n",
    "        calitp_itp_id = itp_id,\n",
    "        calitp_url_number = url_number\n",
    "    )\n",
    "\n",
    "agencies = []\n",
    "for ii, row in status[status.status == \"success\"].iterrows():\n",
    "    agency_path = f\"{BUCKET}/{row['itp_id']}/{row['url_number']}\"\n",
    "    \n",
    "    if not fs.exists(f\"{agency_path}/processed\"):\n",
    "        print(\"agency not processed: %s\" % agency_path)\n",
    "        continue\n",
    "\n",
    "    stops = read_gtfs_data(f\"{agency_path}/processed/stops.txt\", row[\"itp_id\"], row[\"url_number\"])\n",
    "    agency = read_gtfs_data(f\"{agency_path}/processed/agency.txt\", row[\"itp_id\"], row[\"url_number\"])\n",
    "    routes = read_gtfs_data(f\"{agency_path}/processed/routes.txt\", row[\"itp_id\"], row[\"url_number\"])\n",
    "    \n",
    "    agencies.append(dict(stops = stops, agency = agency, routes = routes))\n",
    "    "
   ]
  },
  {
   "cell_type": "code",
   "execution_count": 24,
   "metadata": {},
   "outputs": [],
   "source": [
    "all_stops = pd.concat([entry[\"stops\"] for entry in agencies])\n",
    "all_agency = pd.concat([entry[\"agency\"] for entry in agencies])\n",
    "all_routes = pd.concat([entry[\"routes\"] for entry in agencies])"
   ]
  },
  {
   "cell_type": "code",
   "execution_count": 32,
   "metadata": {},
   "outputs": [
    {
     "data": {
      "text/plain": [
       "(210, 10)"
      ]
     },
     "execution_count": 32,
     "metadata": {},
     "output_type": "execute_result"
    }
   ],
   "source": [
    "all_agency.shape"
   ]
  },
  {
   "cell_type": "code",
   "execution_count": 33,
   "metadata": {},
   "outputs": [
    {
     "data": {
      "text/plain": [
       "(101408, 16)"
      ]
     },
     "execution_count": 33,
     "metadata": {},
     "output_type": "execute_result"
    }
   ],
   "source": [
    "all_stops.shape"
   ]
  },
  {
   "cell_type": "code",
   "execution_count": 27,
   "metadata": {},
   "outputs": [],
   "source": [
    "all_stops.to_csv('~/Downloads/all_stops.csv')"
   ]
  },
  {
   "cell_type": "code",
   "execution_count": 29,
   "metadata": {},
   "outputs": [],
   "source": [
    "all_routes.to_csv('~/Downloads/all_routes.csv')"
   ]
  },
  {
   "cell_type": "code",
   "execution_count": null,
   "metadata": {},
   "outputs": [],
   "source": []
  }
 ],
 "metadata": {
  "kernelspec": {
   "display_name": "Python 3",
   "language": "python",
   "name": "python3"
  },
  "language_info": {
   "codemirror_mode": {
    "name": "ipython",
    "version": 3
   },
   "file_extension": ".py",
   "mimetype": "text/x-python",
   "name": "python",
   "nbconvert_exporter": "python",
   "pygments_lexer": "ipython3",
   "version": "3.7.9"
  }
 },
 "nbformat": 4,
 "nbformat_minor": 4
}
