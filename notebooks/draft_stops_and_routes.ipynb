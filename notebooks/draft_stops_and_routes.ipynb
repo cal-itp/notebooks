{
 "cells": [
  {
   "cell_type": "code",
   "execution_count": null,
   "metadata": {},
   "outputs": [],
   "source": [
    "import gcsfs\n",
    "\n",
    "BUCKET = \"gs://gtfs-data-test/schedule/tmp-2021-04-11T00:00:00+00:00\"\n",
    "fs = gcsfs.GCSFileSystem(project = \"cal-itp-data-infra\")\n",
    "status = pd.read_csv(fs.open(f'{BUCKET}/status.csv'))\n",
    "# stops = fs.glob(f'{BUCKET}/*/*/processed/stops.txt')\n",
    "# agency = fs.glob(f'{BUCKET}/*/*/processed/agency.txt')\n",
    "# routes = fs.glob(f'{BUCKET}/*/*/processed/routes.txt')"
   ]
  },
  {
   "cell_type": "code",
   "execution_count": 27,
   "metadata": {},
   "outputs": [
    {
     "name": "stdout",
     "output_type": "stream",
     "text": [
      "agency not processed: gs://gtfs-data-test/schedule/2021-04-11T00:00:00+00:00/232/0\n"
     ]
    }
   ],
   "source": [
    "def read_gtfs_data(path, itp_id, url_number):\n",
    "    df = pd.read_csv(fs.open(path))\n",
    "    return df.assign(\n",
    "        calitp_itp_id = itp_id,\n",
    "        calitp_url_number = url_number\n",
    "    )\n",
    "\n",
    "agencies = []\n",
    "for ii, row in status[status.status == \"success\"].iterrows():\n",
    "    agency_path = f\"{BUCKET}/{row['itp_id']}/{row['url_number']}\"\n",
    "    \n",
    "    if not fs.exists(f\"{agency_path}/processed\"):\n",
    "        print(\"agency not processed: %s\" % agency_path)\n",
    "        continue\n",
    "\n",
    "    stops = read_gtfs_data(f\"{agency_path}/processed/stops.txt\", row[\"itp_id\"], row[\"url_number\"])\n",
    "    agency = read_gtfs_data(f\"{agency_path}/processed/agency.txt\", row[\"itp_id\"], row[\"url_number\"])\n",
    "    routes = read_gtfs_data(f\"{agency_path}/processed/routes.txt\", row[\"itp_id\"], row[\"url_number\"])\n",
    "    \n",
    "    agencies.append(dict(stops = _stops, agency = _agency, routes = _routes))\n",
    "    "
   ]
  },
  {
   "cell_type": "code",
   "execution_count": 31,
   "metadata": {},
   "outputs": [],
   "source": [
    "all_stops = pd.concat([entry[\"stops\"] for entry in agencies])\n",
    "all_agency = pd.concat([entry[\"agency\"] for entry in agencies])\n",
    "all_routes = pd.concat([entry[\"routes\"] for entry in agencies])"
   ]
  },
  {
   "cell_type": "code",
   "execution_count": 32,
   "metadata": {},
   "outputs": [
    {
     "data": {
      "text/plain": [
       "(210, 10)"
      ]
     },
     "execution_count": 32,
     "metadata": {},
     "output_type": "execute_result"
    }
   ],
   "source": [
    "all_agency.shape"
   ]
  },
  {
   "cell_type": "code",
   "execution_count": 33,
   "metadata": {},
   "outputs": [
    {
     "data": {
      "text/plain": [
       "(101408, 16)"
      ]
     },
     "execution_count": 33,
     "metadata": {},
     "output_type": "execute_result"
    }
   ],
   "source": [
    "all_stops.shape"
   ]
  }
 ],
 "metadata": {
  "kernelspec": {
   "display_name": "venv-notebooks",
   "language": "python",
   "name": "venv-notebooks"
  },
  "language_info": {
   "codemirror_mode": {
    "name": "ipython",
    "version": 3
   },
   "file_extension": ".py",
   "mimetype": "text/x-python",
   "name": "python",
   "nbconvert_exporter": "python",
   "pygments_lexer": "ipython3",
   "version": "3.6.8"
  }
 },
 "nbformat": 4,
 "nbformat_minor": 4
}
