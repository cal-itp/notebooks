{
 "cells": [
  {
   "cell_type": "markdown",
   "metadata": {},
   "source": [
    "# Mapping Statewide Stations \n",
    "Demoing how to approach the GTFS Data warehouse"
   ]
  },
  {
   "cell_type": "code",
   "execution_count": 2,
   "metadata": {},
   "outputs": [],
   "source": [
    "import pandas as pd\n",
    "import geopandas as gpd\n",
    "import tqdm"
   ]
  },
  {
   "cell_type": "code",
   "execution_count": 4,
   "metadata": {},
   "outputs": [],
   "source": [
    "# remember to set project at Gcloud command line level to `cal-itp-data-infra` otherwise this will fail\n",
    "import gcsfs\n",
    "fs = gcsfs.GCSFileSystem()"
   ]
  },
  {
   "cell_type": "code",
   "execution_count": 27,
   "metadata": {},
   "outputs": [],
   "source": [
    "df = pd.read_csv('https://docs.google.com/spreadsheets/d/1qr49azk6p30mp96_7myKoO-Bb_bXMMn5ZzgbL-uPiPw/gviz/tq?tqx=out:csv&sheet=Data')"
   ]
  },
  {
   "cell_type": "code",
   "execution_count": 15,
   "metadata": {},
   "outputs": [],
   "source": [
    "\n",
    "import ipywidgets  as widgets\n",
    "import IPython.display\n",
    "from ipywidgets import interact"
   ]
  },
  {
   "cell_type": "code",
   "execution_count": 21,
   "metadata": {},
   "outputs": [
    {
     "data": {
      "application/vnd.jupyter.widget-view+json": {
       "model_id": "fca203e865404f669ae00b7bce518d5d",
       "version_major": 2,
       "version_minor": 0
      },
      "text/plain": [
       "Dropdown(description='Number:', options=('gtfs-data/schedule/2021-02-19T00:00:00+00:00', 'gtfs-data/schedule/2…"
      ]
     },
     "metadata": {},
     "output_type": "display_data"
    }
   ],
   "source": [
    "options = fs.ls('gtfs-data/schedule')\n",
    "widgets.Dropdown(\n",
    "    options=options,\n",
    "    description='Number:',\n",
    "    disabled=False,\n",
    ")"
   ]
  },
  {
   "cell_type": "code",
   "execution_count": 30,
   "metadata": {},
   "outputs": [],
   "source": [
    "def map_function(date):\n",
    "    df = pd.read_csv('https://docs.google.com/spreadsheets/d/1qr49azk6p30mp96_7myKoO-Bb_bXMMn5ZzgbL-uPiPw/gviz/tq?tqx=out:csv&sheet=Data')\n",
    "    stops = {}\n",
    "    for agency_path in fs.ls(date):\n",
    "        itp_id = agency_path.split('/')[-1]\n",
    "        stop = pd.read_csv(f'gcs://{agency_path}/stops.txt')    \n",
    "        stops[itp_id] = stop\n",
    "    stops_named = {}\n",
    "    for agency in stops:\n",
    "        name = df[df.ITP_ID == int(agency)]['Agency Name'].values[0]\n",
    "        stops_named[name] = stops[agency]\n",
    "    dfs = []\n",
    "    for agency in stops_named:\n",
    "        t_df = stops_named[agency][['stop_lat','stop_lon']].assign(agency = agency)\n",
    "        dfs.append(t_df)\n",
    "    df2 = pd.concat(dfs)\n",
    "    gdf = gpd.GeoDataFrame(\n",
    "        df, geometry=gpd.points_from_xy(df.stop_lon, df.stop_lat))\n",
    "    # Define a layer to display on a map\n",
    "    layer = pdk.Layer(\n",
    "        'HexagonLayer',\n",
    "        df2,\n",
    "        get_position=['stop_lon', 'stop_lat'],\n",
    "        auto_highlight=True,\n",
    "        elevation_scale=50,\n",
    "        pickable=True,\n",
    "        elevation_range=[0, 3000],\n",
    "        extruded=True,                 \n",
    "        coverage=1)\n",
    "\n",
    "    # Set the viewport location\n",
    "    view_state = pdk.ViewState(\n",
    "        longitude=-119.4179,\n",
    "        latitude=36.7783,\n",
    "        zoom=6,\n",
    "        min_zoom=5,\n",
    "        max_zoom=15,\n",
    "        pitch=40.5,\n",
    "        bearing=-27.36)\n",
    "\n",
    "    # Render\n",
    "    r = pdk.Deck(layers=[layer], initial_view_state=view_state)\n",
    "    return display(r.show())"
   ]
  },
  {
   "cell_type": "code",
   "execution_count": 5,
   "metadata": {},
   "outputs": [],
   "source": [
    "stops = {}\n",
    "for agency_path in fs.ls('gtfs-data/schedule/2021-03-21T00:00:00+00:00/'):\n",
    "    itp_id = agency_path.split('/')[-1]\n",
    "    stop = pd.read_csv(f'gcs://{agency_path}/stops.txt')    \n",
    "    stops[itp_id] = stop"
   ]
  },
  {
   "cell_type": "code",
   "execution_count": 8,
   "metadata": {},
   "outputs": [],
   "source": [
    "stops_named = {}\n",
    "for agency in stops:\n",
    "    name = df[df.ITP_ID == int(agency)]['Agency Name'].values[0]\n",
    "    stops_named[name] = stops[agency]"
   ]
  },
  {
   "cell_type": "code",
   "execution_count": 9,
   "metadata": {},
   "outputs": [],
   "source": [
    "dfs = []\n",
    "for agency in stops_named:\n",
    "    t_df = stops_named[agency][['stop_lat','stop_lon']].assign(agency = agency)\n",
    "    dfs.append(t_df)"
   ]
  },
  {
   "cell_type": "code",
   "execution_count": 10,
   "metadata": {},
   "outputs": [],
   "source": [
    "df = pd.concat(dfs)\n",
    "gdf = gpd.GeoDataFrame(\n",
    "    df, geometry=gpd.points_from_xy(df.stop_lon, df.stop_lat))"
   ]
  },
  {
   "cell_type": "code",
   "execution_count": 11,
   "metadata": {},
   "outputs": [
    {
     "data": {
      "application/vnd.jupyter.widget-view+json": {
       "model_id": "c5c7a05043764dc3bd7be6b54704348e",
       "version_major": 2,
       "version_minor": 0
      },
      "text/plain": [
       "DeckGLWidget(carto_key=None, custom_libraries=[], google_maps_key=None, json_input='{\"initialViewState\": {\"bea…"
      ]
     },
     "metadata": {},
     "output_type": "display_data"
    }
   ],
   "source": [
    "import pydeck as pdk\n",
    "\n",
    "# Define a layer to display on a map\n",
    "layer = pdk.Layer(\n",
    "    'HexagonLayer',\n",
    "    df,\n",
    "    get_position=['stop_lon', 'stop_lat'],\n",
    "    auto_highlight=True,\n",
    "    elevation_scale=50,\n",
    "    pickable=True,\n",
    "    elevation_range=[0, 3000],\n",
    "    extruded=True,                 \n",
    "    coverage=1)\n",
    "\n",
    "# Set the viewport location\n",
    "view_state = pdk.ViewState(\n",
    "    longitude=-119.4179,\n",
    "    latitude=36.7783,\n",
    "    zoom=6,\n",
    "    min_zoom=5,\n",
    "    max_zoom=15,\n",
    "    pitch=40.5,\n",
    "    bearing=-27.36)\n",
    "\n",
    "# Render\n",
    "r = pdk.Deck(layers=[layer], initial_view_state=view_state)\n",
    "r.show()"
   ]
  },
  {
   "cell_type": "code",
   "execution_count": null,
   "metadata": {},
   "outputs": [],
   "source": []
  }
 ],
 "metadata": {
  "kernelspec": {
   "display_name": "Python 3",
   "language": "python",
   "name": "python3"
  },
  "language_info": {
   "codemirror_mode": {
    "name": "ipython",
    "version": 3
   },
   "file_extension": ".py",
   "mimetype": "text/x-python",
   "name": "python",
   "nbconvert_exporter": "python",
   "pygments_lexer": "ipython3",
   "version": "3.7.4"
  }
 },
 "nbformat": 4,
 "nbformat_minor": 4
}
