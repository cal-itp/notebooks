{
 "cells": [
  {
   "cell_type": "markdown",
   "id": "unknown-scanner",
   "metadata": {},
   "source": [
    "# Visualizing Real Time Performance of a GTFS Feed\n",
    "\n",
    "This map shows the [Big Blue Bus](http://gtfs.bigbluebus.com/) GTFS feed and computes some basic real time performance stats, ie, is the bus on time. \n",
    "\n",
    "It utilizes the follow elements from GTFS-RT & GTFS-Schedule \n",
    "* Vehicle Positions \n",
    "* Trip Updates \n",
    "* Stop Times \n",
    "\n",
    "If a trip is green, it means that for the next scheduled stop, the predicted stop time is on or before the scheduled time. If a trip is red, it means the opposite, that is, the trip is behind schedule. Blue trips are not scheduled, ie, they are running extra buses, etc. "
   ]
  },
  {
   "cell_type": "code",
   "execution_count": 1,
   "id": "unnecessary-freeze",
   "metadata": {},
   "outputs": [],
   "source": [
    "import pydeck as pdk\n",
    "import pandas as pd\n",
    "import geopandas as gpd\n",
    "import time\n",
    "import asyncio\n",
    "from IPython.display import display\n",
    "import altair as alt"
   ]
  },
  {
   "cell_type": "code",
   "execution_count": 2,
   "id": "imported-stack",
   "metadata": {},
   "outputs": [],
   "source": [
    "def colorize(val):\n",
    "    \"\"\"\n",
    "    Colorize trips with green for on time, red for late, \n",
    "    blue for unscheduled. \n",
    "    \"\"\"\n",
    "    if val == True: \n",
    "        return [255, 0, 0]\n",
    "    elif val == False:\n",
    "        return [0, 255,0]\n",
    "    else: \n",
    "        return [60, 220, 255]"
   ]
  },
  {
   "cell_type": "code",
   "execution_count": 3,
   "id": "inappropriate-sigma",
   "metadata": {},
   "outputs": [],
   "source": [
    "from google.transit import gtfs_realtime_pb2\n",
    "import requests\n",
    "\n",
    "def update_df():\n",
    "    \"\"\"\n",
    "    Gets the latest data from \n",
    "    \"\"\"\n",
    "    # Vehicle Positions \n",
    "    feed = gtfs_realtime_pb2.FeedMessage()\n",
    "    response = requests.get('http://gtfs.bigbluebus.com/vehiclepositions.bin')\n",
    "    feed.ParseFromString(response.content)\n",
    "    locs = []\n",
    "    for entity in feed.entity:\n",
    "        lat = entity.vehicle.position.latitude\n",
    "        long = entity.vehicle.position.longitude\n",
    "        trip_id = entity.vehicle.trip.trip_id\n",
    "        locs.append({'lat': lat, 'long': long, 'trip_id': trip_id})\n",
    "    df = pd.DataFrame(locs)\n",
    "    # Trip Updates\n",
    "    feed = gtfs_realtime_pb2.FeedMessage()\n",
    "    response = requests.get('http://gtfs.bigbluebus.com/tripupdates.bin')\n",
    "    feed.ParseFromString(response.content)\n",
    "    rt_preds_next = [] # make a list of the next arrival predictions \n",
    "    for entity in feed.entity:\n",
    "        trip_id = entity.trip_update.trip.trip_id\n",
    "        for update in entity.trip_update.stop_time_update:\n",
    "            if update.arrival:\n",
    "                pred_time = pd.to_datetime(update.arrival.time, unit='s')\n",
    "                if pred_time.year == 2021:\n",
    "                    stop_id = update.stop_id\n",
    "                    rt_preds_next.append({'trip_id': trip_id, 'pred_time': pred_time, 'stop_id': stop_id})\n",
    "                    break\n",
    "    # DETERMINE IF A TRIP IS RUNNING LATE\n",
    "    preds_df= pd.DataFrame(rt_preds_next)\n",
    "    preds_df = preds_df.astype({'trip_id': 'int64', 'stop_id': 'int64'})\n",
    "    scheduled_stop_time = pd.read_csv(\"http://gtfs.bigbluebus.com/parsed/stop_times.txt\")\n",
    "\n",
    "    schedule = scheduled_stop_time[['trip_id','arrival_time','stop_id']]\n",
    "    new_df = pd.merge(schedule, preds_df,  how='inner', left_on=['trip_id','stop_id'], right_on = ['trip_id','stop_id'])\n",
    "    new_df['arrival_time'] = pd.to_datetime(new_df['arrival_time']).dt.tz_localize('America/Los_Angeles')\n",
    "    new_df['pred_time'] = new_df.pred_time.dt.tz_localize('UTC').dt.tz_convert('America/Los_Angeles')\n",
    "    new_df['running_late'] = new_df.pred_time > new_df.arrival_time\n",
    "    # MERGE with vehicle positions \n",
    "    map_df = df.astype({'trip_id':'int64'}).set_index('trip_id').join(new_df[['running_late','trip_id']].set_index('trip_id'))\n",
    "    map_df['running_late'] = map_df.running_late.fillna('unscheduled')\n",
    "    map_df['color'] = map_df.running_late.apply(colorize)\n",
    "    return map_df.reset_index()"
   ]
  },
  {
   "cell_type": "code",
   "execution_count": 4,
   "id": "statutory-moment",
   "metadata": {},
   "outputs": [],
   "source": [
    "# routes was created with a util\n",
    "gdf = gpd.read_file('./geojson/bigblue/bigblue.geojson')\n",
    "\n",
    "def hex_to_rgb(h):\n",
    "    h = h.lstrip(\"#\")\n",
    "    return tuple(int(h[i : i + 2], 16) for i in (0, 2, 4))\n",
    "\n",
    "def make_path(geom):\n",
    "    \"\"\"\n",
    "    Take a geom, make a path\n",
    "    \"\"\"\n",
    "    coords = []\n",
    "    for x, y in zip(geom.xy[0], geom.xy[1]):\n",
    "        coords.append([x, y])\n",
    "    return coords\n",
    "\n",
    "gdf[\"route_color\"] = gdf[\"route_color\"].apply(hex_to_rgb)\n",
    "gdf[\"path\"] = gdf.geometry.apply(make_path)"
   ]
  },
  {
   "cell_type": "code",
   "execution_count": 5,
   "id": "parliamentary-survivor",
   "metadata": {},
   "outputs": [],
   "source": [
    "map_df = update_df()"
   ]
  },
  {
   "cell_type": "code",
   "execution_count": 6,
   "id": "homeless-country",
   "metadata": {},
   "outputs": [
    {
     "data": {
      "text/plain": [
       "'Number of Vehicles Running Late'"
      ]
     },
     "metadata": {},
     "output_type": "display_data"
    },
    {
     "name": "stdout",
     "output_type": "stream",
     "text": [
      "True           48\n",
      "False          40\n",
      "unscheduled     5\n",
      "Name: running_late, dtype: int64\n"
     ]
    }
   ],
   "source": [
    "display(\"Number of Vehicles Running Late\")\n",
    "print(map_df.running_late.value_counts())"
   ]
  },
  {
   "cell_type": "code",
   "execution_count": 7,
   "id": "meaning-measure",
   "metadata": {},
   "outputs": [
    {
     "data": {
      "application/vnd.jupyter.widget-view+json": {
       "model_id": "b4976fafacff42399344d9912a9fff7d",
       "version_major": 2,
       "version_minor": 0
      },
      "text/plain": [
       "DeckGLWidget(carto_key=None, custom_libraries=[], google_maps_key=None, json_input='{\"initialViewState\": {\"lat…"
      ]
     },
     "metadata": {},
     "output_type": "display_data"
    }
   ],
   "source": [
    "view_state = pdk.ViewState(latitude=34.04545, longitude=-118.44676, zoom=10)\n",
    "# \n",
    "line_layer = pdk.Layer(\n",
    "    type=\"PathLayer\",\n",
    "    data=gdf,\n",
    "    get_color=\"route_color\",\n",
    "    width_scale=10,\n",
    "    width_min_pixels=2,\n",
    "    get_path=\"path\",\n",
    "    get_width=5,\n",
    "    pickable=False\n",
    ")\n",
    "\n",
    "\n",
    "# Define a layer to display on a map\n",
    "realtime_layer = pdk.Layer(\n",
    "    \"ScatterplotLayer\",\n",
    "    map_df,\n",
    "    get_position=[\"long\", \"lat\"],\n",
    "    get_fill_color= \"color\",\n",
    "    get_radius= 75,\n",
    "    pickable=True,\n",
    ")\n",
    "\n",
    "r = pdk.Deck(layers=[line_layer, realtime_layer], initial_view_state=view_state, tooltip={\"html\": \"<b>Running Late?:</b> {running_late}<br><b>Trip ID:</b> {trip_id}\"})\n",
    "r.show()"
   ]
  },
  {
   "cell_type": "code",
   "execution_count": 8,
   "id": "realistic-cliff",
   "metadata": {},
   "outputs": [
    {
     "data": {
      "text/html": [
       "\n",
       "<div id=\"altair-viz-f69b8c4033aa46499dc8ae6c37a093d5\"></div>\n",
       "<script type=\"text/javascript\">\n",
       "  (function(spec, embedOpt){\n",
       "    let outputDiv = document.currentScript.previousElementSibling;\n",
       "    if (outputDiv.id !== \"altair-viz-f69b8c4033aa46499dc8ae6c37a093d5\") {\n",
       "      outputDiv = document.getElementById(\"altair-viz-f69b8c4033aa46499dc8ae6c37a093d5\");\n",
       "    }\n",
       "    const paths = {\n",
       "      \"vega\": \"https://cdn.jsdelivr.net/npm//vega@5?noext\",\n",
       "      \"vega-lib\": \"https://cdn.jsdelivr.net/npm//vega-lib?noext\",\n",
       "      \"vega-lite\": \"https://cdn.jsdelivr.net/npm//vega-lite@4.8.1?noext\",\n",
       "      \"vega-embed\": \"https://cdn.jsdelivr.net/npm//vega-embed@6?noext\",\n",
       "    };\n",
       "\n",
       "    function loadScript(lib) {\n",
       "      return new Promise(function(resolve, reject) {\n",
       "        var s = document.createElement('script');\n",
       "        s.src = paths[lib];\n",
       "        s.async = true;\n",
       "        s.onload = () => resolve(paths[lib]);\n",
       "        s.onerror = () => reject(`Error loading script: ${paths[lib]}`);\n",
       "        document.getElementsByTagName(\"head\")[0].appendChild(s);\n",
       "      });\n",
       "    }\n",
       "\n",
       "    function showError(err) {\n",
       "      outputDiv.innerHTML = `<div class=\"error\" style=\"color:red;\">${err}</div>`;\n",
       "      throw err;\n",
       "    }\n",
       "\n",
       "    function displayChart(vegaEmbed) {\n",
       "      vegaEmbed(outputDiv, spec, embedOpt)\n",
       "        .catch(err => showError(`Javascript Error: ${err.message}<br>This usually means there's a typo in your chart specification. See the javascript console for the full traceback.`));\n",
       "    }\n",
       "\n",
       "    if(typeof define === \"function\" && define.amd) {\n",
       "      requirejs.config({paths});\n",
       "      require([\"vega-embed\"], displayChart, err => showError(`Error loading script: ${err.message}`));\n",
       "    } else if (typeof vegaEmbed === \"function\") {\n",
       "      displayChart(vegaEmbed);\n",
       "    } else {\n",
       "      loadScript(\"vega\")\n",
       "        .then(() => loadScript(\"vega-lite\"))\n",
       "        .then(() => loadScript(\"vega-embed\"))\n",
       "        .catch(showError)\n",
       "        .then(() => displayChart(vegaEmbed));\n",
       "    }\n",
       "  })({\"config\": {\"view\": {\"continuousWidth\": 400, \"continuousHeight\": 300}}, \"data\": {\"name\": \"data-762b7ccb89b20c26e028b675ef4ae61d\"}, \"mark\": \"bar\", \"encoding\": {\"x\": {\"type\": \"nominal\", \"field\": \"running_late\"}, \"y\": {\"type\": \"nominal\", \"aggregate\": \"count\", \"field\": \"running_late\"}}, \"$schema\": \"https://vega.github.io/schema/vega-lite/v4.8.1.json\", \"datasets\": {\"data-762b7ccb89b20c26e028b675ef4ae61d\": [{\"trip_id\": 847870, \"lat\": 34.064945220947266, \"long\": -118.31352233886719, \"running_late\": \"unscheduled\", \"color\": [60, 220, 255]}, {\"trip_id\": 845090, \"lat\": 33.97902297973633, \"long\": -118.43746185302734, \"running_late\": true, \"color\": [255, 0, 0]}, {\"trip_id\": 845020, \"lat\": 33.92929458618164, \"long\": -118.37641143798828, \"running_late\": true, \"color\": [255, 0, 0]}, {\"trip_id\": 847925, \"lat\": 34.0617561340332, \"long\": -118.31818389892578, \"running_late\": true, \"color\": [255, 0, 0]}, {\"trip_id\": 847920, \"lat\": 34.01873779296875, \"long\": -118.47107696533203, \"running_late\": true, \"color\": [255, 0, 0]}, {\"trip_id\": 847873, \"lat\": 34.044532775878906, \"long\": -118.42028045654297, \"running_late\": \"unscheduled\", \"color\": [60, 220, 255]}, {\"trip_id\": 845088, \"lat\": 33.9306755065918, \"long\": -118.37853240966797, \"running_late\": false, \"color\": [0, 255, 0]}, {\"trip_id\": 847867, \"lat\": 34.05522537231445, \"long\": -118.39024353027344, \"running_late\": false, \"color\": [0, 255, 0]}, {\"trip_id\": 847922, \"lat\": 34.026893615722656, \"long\": -118.45549774169922, \"running_late\": true, \"color\": [255, 0, 0]}, {\"trip_id\": 845092, \"lat\": 34.01613998413086, \"long\": -118.49493408203125, \"running_late\": true, \"color\": [255, 0, 0]}, {\"trip_id\": 845018, \"lat\": 33.95915603637695, \"long\": -118.39623260498047, \"running_late\": true, \"color\": [255, 0, 0]}, {\"trip_id\": 847863, \"lat\": 34.01519012451172, \"long\": -118.48833465576172, \"running_late\": true, \"color\": [255, 0, 0]}, {\"trip_id\": 845017, \"lat\": 33.990291595458984, \"long\": -118.4475326538086, \"running_late\": false, \"color\": [0, 255, 0]}, {\"trip_id\": 845093, \"lat\": 34.017948150634766, \"long\": -118.4964370727539, \"running_late\": true, \"color\": [255, 0, 0]}, {\"trip_id\": 847865, \"lat\": 34.01429748535156, \"long\": -118.49290466308594, \"running_late\": true, \"color\": [255, 0, 0]}, {\"trip_id\": 848129, \"lat\": 34.06293869018555, \"long\": -118.30831146240234, \"running_late\": true, \"color\": [255, 0, 0]}, {\"trip_id\": 847983, \"lat\": 34.03628921508789, \"long\": -118.42536163330078, \"running_late\": true, \"color\": [255, 0, 0]}, {\"trip_id\": 845091, \"lat\": 33.99628448486328, \"long\": -118.45756530761719, \"running_late\": false, \"color\": [0, 255, 0]}, {\"trip_id\": 847866, \"lat\": 34.03175735473633, \"long\": -118.44527435302734, \"running_late\": true, \"color\": [255, 0, 0]}, {\"trip_id\": 847984, \"lat\": 34.01924133300781, \"long\": -118.40727996826172, \"running_late\": false, \"color\": [0, 255, 0]}, {\"trip_id\": 844653, \"lat\": 34.009742736816406, \"long\": -118.49022674560547, \"running_late\": false, \"color\": [0, 255, 0]}, {\"trip_id\": 848127, \"lat\": 34.049137115478516, \"long\": -118.35797882080078, \"running_late\": false, \"color\": [0, 255, 0]}, {\"trip_id\": 848124, \"lat\": 34.011878967285156, \"long\": -118.48979187011719, \"running_late\": false, \"color\": [0, 255, 0]}, {\"trip_id\": 844323, \"lat\": 34.06407928466797, \"long\": -118.4412612915039, \"running_late\": true, \"color\": [255, 0, 0]}, {\"trip_id\": 847924, \"lat\": 34.049346923828125, \"long\": -118.3585205078125, \"running_late\": true, \"color\": [255, 0, 0]}, {\"trip_id\": 848188, \"lat\": 34.04853439331055, \"long\": -118.33821868896484, \"running_late\": false, \"color\": [0, 255, 0]}, {\"trip_id\": 844422, \"lat\": 34.01801300048828, \"long\": -118.49324798583984, \"running_late\": false, \"color\": [0, 255, 0]}, {\"trip_id\": 844331, \"lat\": 33.988243103027344, \"long\": -118.46917724609375, \"running_late\": true, \"color\": [255, 0, 0]}, {\"trip_id\": 848189, \"lat\": 34.05373764038086, \"long\": -118.37853240966797, \"running_late\": false, \"color\": [0, 255, 0]}, {\"trip_id\": 847985, \"lat\": 34.01911163330078, \"long\": -118.40718078613281, \"running_late\": false, \"color\": [0, 255, 0]}, {\"trip_id\": 844692, \"lat\": 34.02436065673828, \"long\": -118.49203491210938, \"running_late\": false, \"color\": [0, 255, 0]}, {\"trip_id\": 847721, \"lat\": 34.03485107421875, \"long\": -118.43675231933594, \"running_late\": false, \"color\": [0, 255, 0]}, {\"trip_id\": 845952, \"lat\": 34.03640365600586, \"long\": -118.51908111572266, \"running_late\": false, \"color\": [0, 255, 0]}, {\"trip_id\": 844329, \"lat\": 33.989280700683594, \"long\": -118.47200775146484, \"running_late\": false, \"color\": [0, 255, 0]}, {\"trip_id\": 844325, \"lat\": 34.04966735839844, \"long\": -118.4371566772461, \"running_late\": false, \"color\": [0, 255, 0]}, {\"trip_id\": 848123, \"lat\": 34.01545333862305, \"long\": -118.48860931396484, \"running_late\": false, \"color\": [0, 255, 0]}, {\"trip_id\": 848126, \"lat\": 34.05531311035156, \"long\": -118.39480590820312, \"running_late\": false, \"color\": [0, 255, 0]}, {\"trip_id\": 846383, \"lat\": 34.05314254760742, \"long\": -118.46932220458984, \"running_late\": false, \"color\": [0, 255, 0]}, {\"trip_id\": 846471, \"lat\": 34.0655403137207, \"long\": -118.46891784667969, \"running_late\": false, \"color\": [0, 255, 0]}, {\"trip_id\": 844326, \"lat\": 34.041236877441406, \"long\": -118.46171569824219, \"running_late\": true, \"color\": [255, 0, 0]}, {\"trip_id\": 848125, \"lat\": 34.036705017089844, \"long\": -118.43585968017578, \"running_late\": false, \"color\": [0, 255, 0]}, {\"trip_id\": 845746, \"lat\": 34.07071304321289, \"long\": -118.43871307373047, \"running_late\": true, \"color\": [255, 0, 0]}, {\"trip_id\": 848194, \"lat\": 34.014915466308594, \"long\": -118.48796844482422, \"running_late\": true, \"color\": [255, 0, 0]}, {\"trip_id\": 848058, \"lat\": 34.04399490356445, \"long\": -118.43196868896484, \"running_late\": true, \"color\": [255, 0, 0]}, {\"trip_id\": 844327, \"lat\": 34.015625, \"long\": -118.49423217773438, \"running_late\": true, \"color\": [255, 0, 0]}, {\"trip_id\": 845922, \"lat\": 34.030303955078125, \"long\": -118.51519775390625, \"running_late\": false, \"color\": [0, 255, 0]}, {\"trip_id\": 847869, \"lat\": 34.06450653076172, \"long\": -118.31352233886719, \"running_late\": false, \"color\": [0, 255, 0]}, {\"trip_id\": 844330, \"lat\": 33.98823928833008, \"long\": -118.46931457519531, \"running_late\": true, \"color\": [255, 0, 0]}, {\"trip_id\": 844425, \"lat\": 34.05550765991211, \"long\": -118.44200134277344, \"running_late\": true, \"color\": [255, 0, 0]}, {\"trip_id\": 844655, \"lat\": 34.057647705078125, \"long\": -118.4478988647461, \"running_late\": false, \"color\": [0, 255, 0]}, {\"trip_id\": 848192, \"lat\": 34.017066955566406, \"long\": -118.49429321289062, \"running_late\": true, \"color\": [255, 0, 0]}, {\"trip_id\": 848190, \"lat\": 34.04004669189453, \"long\": -118.42890930175781, \"running_late\": true, \"color\": [255, 0, 0]}, {\"trip_id\": 844424, \"lat\": 34.04610061645508, \"long\": -118.45004272460938, \"running_late\": true, \"color\": [255, 0, 0]}, {\"trip_id\": 845141, \"lat\": 34.00936508178711, \"long\": -118.4900894165039, \"running_late\": false, \"color\": [0, 255, 0]}, {\"trip_id\": 847763, \"lat\": 34.05628967285156, \"long\": -118.45135498046875, \"running_late\": true, \"color\": [255, 0, 0]}, {\"trip_id\": 845089, \"lat\": 33.94573211669922, \"long\": -118.3861312866211, \"running_late\": false, \"color\": [0, 255, 0]}, {\"trip_id\": 847722, \"lat\": 34.06060028076172, \"long\": -118.44992065429688, \"running_late\": false, \"color\": [0, 255, 0]}, {\"trip_id\": 845782, \"lat\": 34.014163970947266, \"long\": -118.49797821044922, \"running_late\": false, \"color\": [0, 255, 0]}, {\"trip_id\": 844654, \"lat\": 34.01797866821289, \"long\": -118.49693298339844, \"running_late\": true, \"color\": [255, 0, 0]}, {\"trip_id\": 844328, \"lat\": 34.01179885864258, \"long\": -118.48970031738281, \"running_late\": false, \"color\": [0, 255, 0]}, {\"trip_id\": 845153, \"lat\": 34.03004455566406, \"long\": -118.40380096435547, \"running_late\": true, \"color\": [255, 0, 0]}, {\"trip_id\": 847723, \"lat\": 34.07567596435547, \"long\": -118.43929290771484, \"running_late\": \"unscheduled\", \"color\": [60, 220, 255]}, {\"trip_id\": 845783, \"lat\": 34.03604507446289, \"long\": -118.42536163330078, \"running_late\": true, \"color\": [255, 0, 0]}, {\"trip_id\": 844423, \"lat\": 34.02939987182617, \"long\": -118.4792709350586, \"running_late\": false, \"color\": [0, 255, 0]}, {\"trip_id\": 845921, \"lat\": 34.01005554199219, \"long\": -118.49039459228516, \"running_late\": false, \"color\": [0, 255, 0]}, {\"trip_id\": 845086, \"lat\": 33.94510269165039, \"long\": -118.37846374511719, \"running_late\": \"unscheduled\", \"color\": [60, 220, 255]}, {\"trip_id\": 847764, \"lat\": 34.02641296386719, \"long\": -118.43167114257812, \"running_late\": true, \"color\": [255, 0, 0]}, {\"trip_id\": 845784, \"lat\": 34.07091522216797, \"long\": -118.43864440917969, \"running_late\": true, \"color\": [255, 0, 0]}, {\"trip_id\": 846879, \"lat\": 34.023353576660156, \"long\": -118.47945404052734, \"running_late\": true, \"color\": [255, 0, 0]}, {\"trip_id\": 846880, \"lat\": 34.022884368896484, \"long\": -118.47322845458984, \"running_late\": true, \"color\": [255, 0, 0]}, {\"trip_id\": 846782, \"lat\": 34.040252685546875, \"long\": -118.48524475097656, \"running_late\": false, \"color\": [0, 255, 0]}, {\"trip_id\": 846807, \"lat\": 34.06929397583008, \"long\": -118.44481658935547, \"running_late\": true, \"color\": [255, 0, 0]}, {\"trip_id\": 848128, \"lat\": 34.06302261352539, \"long\": -118.30799102783203, \"running_late\": true, \"color\": [255, 0, 0]}, {\"trip_id\": 848059, \"lat\": 34.06208801269531, \"long\": -118.44544982910156, \"running_late\": true, \"color\": [255, 0, 0]}, {\"trip_id\": 847720, \"lat\": 34.026798248291016, \"long\": -118.39006805419922, \"running_late\": true, \"color\": [255, 0, 0]}, {\"trip_id\": 846433, \"lat\": 33.98275375366211, \"long\": -118.40310668945312, \"running_late\": \"unscheduled\", \"color\": [60, 220, 255]}, {\"trip_id\": 844421, \"lat\": 33.998233795166016, \"long\": -118.47991180419922, \"running_late\": false, \"color\": [0, 255, 0]}, {\"trip_id\": 846432, \"lat\": 33.99714660644531, \"long\": -118.42867279052734, \"running_late\": false, \"color\": [0, 255, 0]}, {\"trip_id\": 845747, \"lat\": 34.02508544921875, \"long\": -118.44507598876953, \"running_late\": false, \"color\": [0, 255, 0]}, {\"trip_id\": 848193, \"lat\": 34.0146598815918, \"long\": -118.49124145507812, \"running_late\": true, \"color\": [255, 0, 0]}, {\"trip_id\": 845748, \"lat\": 34.015079498291016, \"long\": -118.4881820678711, \"running_late\": false, \"color\": [0, 255, 0]}, {\"trip_id\": 844691, \"lat\": 34.06367492675781, \"long\": -118.4453353881836, \"running_late\": false, \"color\": [0, 255, 0]}, {\"trip_id\": 846431, \"lat\": 34.04074478149414, \"long\": -118.46369171142578, \"running_late\": false, \"color\": [0, 255, 0]}, {\"trip_id\": 844426, \"lat\": 34.07049560546875, \"long\": -118.43876647949219, \"running_late\": true, \"color\": [255, 0, 0]}, {\"trip_id\": 846382, \"lat\": 34.00735855102539, \"long\": -118.43629455566406, \"running_late\": true, \"color\": [255, 0, 0]}, {\"trip_id\": 844324, \"lat\": 34.05327606201172, \"long\": -118.43995666503906, \"running_late\": true, \"color\": [255, 0, 0]}, {\"trip_id\": 847868, \"lat\": 34.048553466796875, \"long\": -118.33799743652344, \"running_late\": false, \"color\": [0, 255, 0]}, {\"trip_id\": 845015, \"lat\": 34.00874328613281, \"long\": -118.4784927368164, \"running_late\": true, \"color\": [255, 0, 0]}, {\"trip_id\": 845016, \"lat\": 33.99811553955078, \"long\": -118.46092987060547, \"running_late\": true, \"color\": [255, 0, 0]}, {\"trip_id\": 846924, \"lat\": 34.03988265991211, \"long\": -118.50362396240234, \"running_late\": true, \"color\": [255, 0, 0]}, {\"trip_id\": 846783, \"lat\": 33.991607666015625, \"long\": -118.46543884277344, \"running_late\": true, \"color\": [255, 0, 0]}, {\"trip_id\": 846784, \"lat\": 33.981781005859375, \"long\": -118.46049499511719, \"running_late\": true, \"color\": [255, 0, 0]}, {\"trip_id\": 846806, \"lat\": 34.04938888549805, \"long\": -118.47402954101562, \"running_late\": true, \"color\": [255, 0, 0]}]}}, {\"mode\": \"vega-lite\"});\n",
       "</script>"
      ],
      "text/plain": [
       "alt.Chart(...)"
      ]
     },
     "metadata": {},
     "output_type": "display_data"
    },
    {
     "data": {
      "text/plain": [
       "'waited 30 seconds for updates'"
      ]
     },
     "metadata": {},
     "output_type": "display_data"
    }
   ],
   "source": [
    "all_tasks = asyncio.all_tasks()\n",
    "for task in all_tasks:\n",
    "    task.cancel()\n",
    "\n",
    "async def do():\n",
    "    while True:\n",
    "        records = update_df()\n",
    "        display(alt.Chart(map_df).mark_bar().encode(\n",
    "            x='running_late',\n",
    "            y='count(running_late)'\n",
    "        ))\n",
    "        realtime_layer.data = records\n",
    "        r.update()\n",
    "        display(\"waited 30 seconds for updates\")\n",
    "        await asyncio.sleep(30)\n",
    "\n",
    "asyncio.create_task(do());"
   ]
  }
 ],
 "metadata": {
  "kernelspec": {
   "display_name": "Python 3",
   "language": "python",
   "name": "python3"
  },
  "language_info": {
   "codemirror_mode": {
    "name": "ipython",
    "version": 3
   },
   "file_extension": ".py",
   "mimetype": "text/x-python",
   "name": "python",
   "nbconvert_exporter": "python",
   "pygments_lexer": "ipython3",
   "version": "3.7.9"
  }
 },
 "nbformat": 4,
 "nbformat_minor": 5
}
