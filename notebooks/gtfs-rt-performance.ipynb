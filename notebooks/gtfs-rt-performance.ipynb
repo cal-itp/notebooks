{
 "cells": [
  {
   "cell_type": "markdown",
   "id": "dominant-syntax",
   "metadata": {},
   "source": [
    "# Visualizing Real Time Performance of a GTFS Feed\n",
    "\n",
    "This map shows the [Big Blue Bus](http://gtfs.bigbluebus.com/) GTFS feed and computes some basic real time performance stats, ie, is the bus on time. \n",
    "\n",
    "It utilizes the follow elements from GTFS-RT & GTFS-Schedule \n",
    "* Vehicle Positions \n",
    "* Trip Updates \n",
    "* Stop Times \n",
    "\n",
    "If a trip is green, it means that for the next scheduled stop, the predicted stop time is on or before the scheduled time. If a trip is red, it means the opposite, that is, the trip is behind schedule. Blue trips are not scheduled, ie, they are running extra buses, etc. "
   ]
  },
  {
   "cell_type": "code",
   "execution_count": 1,
   "id": "regulation-quick",
   "metadata": {},
   "outputs": [],
   "source": [
    "import pydeck as pdk\n",
    "import pandas as pd\n",
    "import geopandas as gpd\n",
    "import time\n",
    "import asyncio\n",
    "from IPython.display import display\n",
    "import altair as alt"
   ]
  },
  {
   "cell_type": "code",
   "execution_count": 9,
   "id": "adapted-bangkok",
   "metadata": {},
   "outputs": [
    {
     "data": {
      "text/plain": [
       "<function asyncio.tasks.all_tasks(loop=None)>"
      ]
     },
     "execution_count": 9,
     "metadata": {},
     "output_type": "execute_result"
    }
   ],
   "source": [
    "asyncio.all_tasks"
   ]
  },
  {
   "cell_type": "code",
   "execution_count": 2,
   "id": "welcome-psychiatry",
   "metadata": {},
   "outputs": [],
   "source": [
    "def colorize(val):\n",
    "    \"\"\"\n",
    "    Colorize trips with green for on time, red for late, \n",
    "    blue for unscheduled. \n",
    "    \"\"\"\n",
    "    if val == True: \n",
    "        return [255, 0, 0]\n",
    "    elif val == False:\n",
    "        return [0, 255,0]\n",
    "    else: \n",
    "        return [60, 220, 255]"
   ]
  },
  {
   "cell_type": "code",
   "execution_count": 3,
   "id": "charitable-weapon",
   "metadata": {},
   "outputs": [],
   "source": [
    "from google.transit import gtfs_realtime_pb2\n",
    "import requests\n",
    "\n",
    "def update_df():\n",
    "    \"\"\"\n",
    "    Gets the latest data from \n",
    "    \"\"\"\n",
    "    # Vehicle Positions \n",
    "    feed = gtfs_realtime_pb2.FeedMessage()\n",
    "    response = requests.get('http://gtfs.bigbluebus.com/vehiclepositions.bin')\n",
    "    feed.ParseFromString(response.content)\n",
    "    locs = []\n",
    "    for entity in feed.entity:\n",
    "        lat = entity.vehicle.position.latitude\n",
    "        long = entity.vehicle.position.longitude\n",
    "        trip_id = entity.vehicle.trip.trip_id\n",
    "        locs.append({'lat': lat, 'long': long, 'trip_id': trip_id})\n",
    "    df = pd.DataFrame(locs)\n",
    "    # Trip Updates\n",
    "    feed = gtfs_realtime_pb2.FeedMessage()\n",
    "    response = requests.get('http://gtfs.bigbluebus.com/tripupdates.bin')\n",
    "    feed.ParseFromString(response.content)\n",
    "    rt_preds_next = [] # make a list of the next arrival predictions \n",
    "    for entity in feed.entity:\n",
    "        trip_id = entity.trip_update.trip.trip_id\n",
    "        for update in entity.trip_update.stop_time_update:\n",
    "            if update.arrival:\n",
    "                pred_time = pd.to_datetime(update.arrival.time, unit='s')\n",
    "                if pred_time.year == 2021:\n",
    "                    stop_id = update.stop_id\n",
    "                    rt_preds_next.append({'trip_id': trip_id, 'pred_time': pred_time, 'stop_id': stop_id})\n",
    "                    break\n",
    "    # DETERMINE IF A TRIP IS RUNNING LATE\n",
    "    preds_df= pd.DataFrame(rt_preds_next)\n",
    "    preds_df = preds_df.astype({'trip_id': 'int64', 'stop_id': 'int64'})\n",
    "    scheduled_stop_time = pd.read_csv(\"http://gtfs.bigbluebus.com/parsed/stop_times.txt\")\n",
    "\n",
    "    schedule = scheduled_stop_time[['trip_id','arrival_time','stop_id']]\n",
    "    new_df = pd.merge(schedule, preds_df,  how='inner', left_on=['trip_id','stop_id'], right_on = ['trip_id','stop_id'])\n",
    "    new_df['arrival_time'] = pd.to_datetime(new_df['arrival_time']).dt.tz_localize('America/Los_Angeles')\n",
    "    new_df['pred_time'] = new_df.pred_time.dt.tz_localize('UTC').dt.tz_convert('America/Los_Angeles')\n",
    "    new_df['running_late'] = new_df.pred_time > new_df.arrival_time\n",
    "    # MERGE with vehicle positions \n",
    "    map_df = df.astype({'trip_id':'int64'}).set_index('trip_id').join(new_df[['running_late','trip_id']].set_index('trip_id'))\n",
    "    map_df['running_late'] = map_df.running_late.fillna('unscheduled')\n",
    "    map_df['color'] = map_df.running_late.apply(colorize)\n",
    "    return map_df.reset_index()"
   ]
  },
  {
   "cell_type": "code",
   "execution_count": 4,
   "id": "other-mauritius",
   "metadata": {},
   "outputs": [],
   "source": [
    "# routes was created with a util\n",
    "gdf = gpd.read_file('../data/bigblue/bigblue.geojson')\n",
    "\n",
    "def hex_to_rgb(h):\n",
    "    h = h.lstrip(\"#\")\n",
    "    return tuple(int(h[i : i + 2], 16) for i in (0, 2, 4))\n",
    "\n",
    "def make_path(geom):\n",
    "    \"\"\"\n",
    "    Take a geom, make a path\n",
    "    \"\"\"\n",
    "    coords = []\n",
    "    for x, y in zip(geom.xy[0], geom.xy[1]):\n",
    "        coords.append([x, y])\n",
    "    return coords\n",
    "\n",
    "gdf[\"route_color\"] = gdf[\"route_color\"].apply(hex_to_rgb)\n",
    "gdf[\"path\"] = gdf.geometry.apply(make_path)"
   ]
  },
  {
   "cell_type": "code",
   "execution_count": 5,
   "id": "alien-period",
   "metadata": {},
   "outputs": [],
   "source": [
    "map_df = update_df()"
   ]
  },
  {
   "cell_type": "code",
   "execution_count": 6,
   "id": "earlier-negotiation",
   "metadata": {},
   "outputs": [
    {
     "data": {
      "text/plain": [
       "'Number of Vehicles Running Late'"
      ]
     },
     "metadata": {},
     "output_type": "display_data"
    },
    {
     "name": "stdout",
     "output_type": "stream",
     "text": [
      "unscheduled    50\n",
      "Name: running_late, dtype: int64\n"
     ]
    }
   ],
   "source": [
    "display(\"Number of Vehicles Running Late\")\n",
    "print(map_df.running_late.value_counts())"
   ]
  },
  {
   "cell_type": "code",
   "execution_count": 7,
   "id": "french-liverpool",
   "metadata": {},
   "outputs": [
    {
     "data": {
      "application/vnd.jupyter.widget-view+json": {
       "model_id": "b67fed3cc051436a8676ef5205af3143",
       "version_major": 2,
       "version_minor": 0
      },
      "text/plain": [
       "DeckGLWidget(carto_key=None, custom_libraries=[], google_maps_key=None, json_input='{\"initialViewState\": {\"lat…"
      ]
     },
     "metadata": {},
     "output_type": "display_data"
    }
   ],
   "source": [
    "view_state = pdk.ViewState(latitude=34.04545, longitude=-118.44676, zoom=10)\n",
    "# \n",
    "line_layer = pdk.Layer(\n",
    "    type=\"PathLayer\",\n",
    "    data=gdf,\n",
    "    get_color=\"route_color\",\n",
    "    width_scale=10,\n",
    "    width_min_pixels=2,\n",
    "    get_path=\"path\",\n",
    "    get_width=5,\n",
    "    pickable=False\n",
    ")\n",
    "\n",
    "\n",
    "# Define a layer to display on a map\n",
    "realtime_layer = pdk.Layer(\n",
    "    \"ScatterplotLayer\",\n",
    "    map_df,\n",
    "    get_position=[\"long\", \"lat\"],\n",
    "    get_fill_color= \"color\",\n",
    "    get_radius= 75,\n",
    "    pickable=True,\n",
    ")\n",
    "\n",
    "r = pdk.Deck(layers=[line_layer, realtime_layer], initial_view_state=view_state, tooltip={\"html\": \"<b>Running Late?:</b> {running_late}<br><b>Trip ID:</b> {trip_id}\"})\n",
    "r.show()"
   ]
  },
  {
   "cell_type": "code",
   "execution_count": 9,
   "id": "medical-batman",
   "metadata": {},
   "outputs": [
    {
     "data": {
      "text/html": [
       "\n",
       "<div id=\"altair-viz-173c738ced854d508f3940da2f29d150\"></div>\n",
       "<script type=\"text/javascript\">\n",
       "  (function(spec, embedOpt){\n",
       "    let outputDiv = document.currentScript.previousElementSibling;\n",
       "    if (outputDiv.id !== \"altair-viz-173c738ced854d508f3940da2f29d150\") {\n",
       "      outputDiv = document.getElementById(\"altair-viz-173c738ced854d508f3940da2f29d150\");\n",
       "    }\n",
       "    const paths = {\n",
       "      \"vega\": \"https://cdn.jsdelivr.net/npm//vega@5?noext\",\n",
       "      \"vega-lib\": \"https://cdn.jsdelivr.net/npm//vega-lib?noext\",\n",
       "      \"vega-lite\": \"https://cdn.jsdelivr.net/npm//vega-lite@4.8.1?noext\",\n",
       "      \"vega-embed\": \"https://cdn.jsdelivr.net/npm//vega-embed@6?noext\",\n",
       "    };\n",
       "\n",
       "    function loadScript(lib) {\n",
       "      return new Promise(function(resolve, reject) {\n",
       "        var s = document.createElement('script');\n",
       "        s.src = paths[lib];\n",
       "        s.async = true;\n",
       "        s.onload = () => resolve(paths[lib]);\n",
       "        s.onerror = () => reject(`Error loading script: ${paths[lib]}`);\n",
       "        document.getElementsByTagName(\"head\")[0].appendChild(s);\n",
       "      });\n",
       "    }\n",
       "\n",
       "    function showError(err) {\n",
       "      outputDiv.innerHTML = `<div class=\"error\" style=\"color:red;\">${err}</div>`;\n",
       "      throw err;\n",
       "    }\n",
       "\n",
       "    function displayChart(vegaEmbed) {\n",
       "      vegaEmbed(outputDiv, spec, embedOpt)\n",
       "        .catch(err => showError(`Javascript Error: ${err.message}<br>This usually means there's a typo in your chart specification. See the javascript console for the full traceback.`));\n",
       "    }\n",
       "\n",
       "    if(typeof define === \"function\" && define.amd) {\n",
       "      requirejs.config({paths});\n",
       "      require([\"vega-embed\"], displayChart, err => showError(`Error loading script: ${err.message}`));\n",
       "    } else if (typeof vegaEmbed === \"function\") {\n",
       "      displayChart(vegaEmbed);\n",
       "    } else {\n",
       "      loadScript(\"vega\")\n",
       "        .then(() => loadScript(\"vega-lite\"))\n",
       "        .then(() => loadScript(\"vega-embed\"))\n",
       "        .catch(showError)\n",
       "        .then(() => displayChart(vegaEmbed));\n",
       "    }\n",
       "  })({\"config\": {\"view\": {\"continuousWidth\": 400, \"continuousHeight\": 300}}, \"data\": {\"name\": \"data-033f4c376d429287e12240bb643076d6\"}, \"mark\": \"bar\", \"encoding\": {\"x\": {\"type\": \"nominal\", \"field\": \"running_late\"}, \"y\": {\"type\": \"nominal\", \"aggregate\": \"count\", \"field\": \"running_late\"}}, \"$schema\": \"https://vega.github.io/schema/vega-lite/v4.8.1.json\", \"datasets\": {\"data-033f4c376d429287e12240bb643076d6\": [{\"trip_id\": 844323, \"lat\": 34.05523681640625, \"long\": -118.44163513183594, \"running_late\": false, \"color\": [0, 255, 0]}, {\"trip_id\": 844324, \"lat\": 34.04636764526367, \"long\": -118.44859313964844, \"running_late\": false, \"color\": [0, 255, 0]}, {\"trip_id\": 844325, \"lat\": 34.033203125, \"long\": -118.47437286376953, \"running_late\": false, \"color\": [0, 255, 0]}, {\"trip_id\": 844326, \"lat\": 34.01802444458008, \"long\": -118.4931869506836, \"running_late\": true, \"color\": [255, 0, 0]}, {\"trip_id\": 844327, \"lat\": 34.00428009033203, \"long\": -118.4859848022461, \"running_late\": false, \"color\": [0, 255, 0]}, {\"trip_id\": 844328, \"lat\": 33.98868942260742, \"long\": -118.4714584350586, \"running_late\": true, \"color\": [255, 0, 0]}, {\"trip_id\": 844329, \"lat\": 33.98822784423828, \"long\": -118.46942901611328, \"running_late\": false, \"color\": [0, 255, 0]}, {\"trip_id\": 844419, \"lat\": 33.98838806152344, \"long\": -118.47132873535156, \"running_late\": false, \"color\": [0, 255, 0]}, {\"trip_id\": 844420, \"lat\": 34.008609771728516, \"long\": -118.48880004882812, \"running_late\": false, \"color\": [0, 255, 0]}, {\"trip_id\": 844421, \"lat\": 34.028472900390625, \"long\": -118.48045349121094, \"running_late\": true, \"color\": [255, 0, 0]}, {\"trip_id\": 844422, \"lat\": 34.04057312011719, \"long\": -118.46349334716797, \"running_late\": true, \"color\": [255, 0, 0]}, {\"trip_id\": 844423, \"lat\": 34.05465316772461, \"long\": -118.44131469726562, \"running_late\": true, \"color\": [255, 0, 0]}, {\"trip_id\": 844424, \"lat\": 34.026336669921875, \"long\": -118.46295166015625, \"running_late\": \"unscheduled\", \"color\": [60, 220, 255]}, {\"trip_id\": 844425, \"lat\": 34.071144104003906, \"long\": -118.4384536743164, \"running_late\": true, \"color\": [255, 0, 0]}, {\"trip_id\": 844426, \"lat\": 34.07074737548828, \"long\": -118.4386978149414, \"running_late\": true, \"color\": [255, 0, 0]}, {\"trip_id\": 844654, \"lat\": 34.00971221923828, \"long\": -118.490234375, \"running_late\": false, \"color\": [0, 255, 0]}, {\"trip_id\": 844655, \"lat\": 34.02741622924805, \"long\": -118.48802947998047, \"running_late\": true, \"color\": [255, 0, 0]}, {\"trip_id\": 844656, \"lat\": 34.05780029296875, \"long\": -118.44725799560547, \"running_late\": true, \"color\": [255, 0, 0]}, {\"trip_id\": 844692, \"lat\": 34.056888580322266, \"long\": -118.4502944946289, \"running_late\": true, \"color\": [255, 0, 0]}, {\"trip_id\": 844693, \"lat\": 34.01413345336914, \"long\": -118.49227905273438, \"running_late\": false, \"color\": [0, 255, 0]}, {\"trip_id\": 845014, \"lat\": 34.00358200073242, \"long\": -118.4717025756836, \"running_late\": true, \"color\": [255, 0, 0]}, {\"trip_id\": 845015, \"lat\": 34.00020980834961, \"long\": -118.46521759033203, \"running_late\": true, \"color\": [255, 0, 0]}, {\"trip_id\": 845016, \"lat\": 33.95989990234375, \"long\": -118.41914367675781, \"running_late\": true, \"color\": [255, 0, 0]}, {\"trip_id\": 845017, \"lat\": 33.959571838378906, \"long\": -118.39623260498047, \"running_late\": false, \"color\": [0, 255, 0]}, {\"trip_id\": 845018, \"lat\": 33.931365966796875, \"long\": -118.37841033935547, \"running_late\": true, \"color\": [255, 0, 0]}, {\"trip_id\": 845019, \"lat\": 33.92930221557617, \"long\": -118.3763427734375, \"running_late\": true, \"color\": [255, 0, 0]}, {\"trip_id\": 845087, \"lat\": 33.94528579711914, \"long\": -118.37855529785156, \"running_late\": true, \"color\": [255, 0, 0]}, {\"trip_id\": 845088, \"lat\": 33.95893478393555, \"long\": -118.39633178710938, \"running_late\": true, \"color\": [255, 0, 0]}, {\"trip_id\": 845089, \"lat\": 33.984222412109375, \"long\": -118.4425048828125, \"running_late\": true, \"color\": [255, 0, 0]}, {\"trip_id\": 845090, \"lat\": 34.002803802490234, \"long\": -118.47084045410156, \"running_late\": true, \"color\": [255, 0, 0]}, {\"trip_id\": 845091, \"lat\": 34.01553726196289, \"long\": -118.49412536621094, \"running_late\": true, \"color\": [255, 0, 0]}, {\"trip_id\": 845142, \"lat\": 34.0615348815918, \"long\": -118.414794921875, \"running_late\": true, \"color\": [255, 0, 0]}, {\"trip_id\": 845154, \"lat\": 34.02199935913086, \"long\": -118.48196411132812, \"running_late\": true, \"color\": [255, 0, 0]}, {\"trip_id\": 845746, \"lat\": 34.03584671020508, \"long\": -118.4250259399414, \"running_late\": true, \"color\": [255, 0, 0]}, {\"trip_id\": 845747, \"lat\": 34.00251388549805, \"long\": -118.4835433959961, \"running_late\": false, \"color\": [0, 255, 0]}, {\"trip_id\": 845781, \"lat\": 34.04039764404297, \"long\": -118.42870330810547, \"running_late\": \"unscheduled\", \"color\": [60, 220, 255]}, {\"trip_id\": 845782, \"lat\": 34.02497100830078, \"long\": -118.44546508789062, \"running_late\": true, \"color\": [255, 0, 0]}, {\"trip_id\": 845783, \"lat\": 34.07035827636719, \"long\": -118.43888854980469, \"running_late\": true, \"color\": [255, 0, 0]}, {\"trip_id\": 845784, \"lat\": 34.058563232421875, \"long\": -118.44819641113281, \"running_late\": true, \"color\": [255, 0, 0]}, {\"trip_id\": 845922, \"lat\": 34.017616271972656, \"long\": -118.49658203125, \"running_late\": false, \"color\": [0, 255, 0]}, {\"trip_id\": 845923, \"lat\": 34.04816818237305, \"long\": -118.52725219726562, \"running_late\": true, \"color\": [255, 0, 0]}, {\"trip_id\": 845953, \"lat\": 34.01384735107422, \"long\": -118.49222564697266, \"running_late\": false, \"color\": [0, 255, 0]}, {\"trip_id\": 846382, \"lat\": 33.9836311340332, \"long\": -118.40332794189453, \"running_late\": \"unscheduled\", \"color\": [60, 220, 255]}, {\"trip_id\": 846383, \"lat\": 34.003509521484375, \"long\": -118.43333435058594, \"running_late\": true, \"color\": [255, 0, 0]}, {\"trip_id\": 846431, \"lat\": 34.0561637878418, \"long\": -118.4637451171875, \"running_late\": false, \"color\": [0, 255, 0]}, {\"trip_id\": 846432, \"lat\": 34.038726806640625, \"long\": -118.4612808227539, \"running_late\": \"unscheduled\", \"color\": [60, 220, 255]}, {\"trip_id\": 846433, \"lat\": 33.98085403442383, \"long\": -118.40888977050781, \"running_late\": false, \"color\": [0, 255, 0]}, {\"trip_id\": 846457, \"lat\": 34.02940368652344, \"long\": -118.45609283447266, \"running_late\": true, \"color\": [255, 0, 0]}, {\"trip_id\": 846781, \"lat\": 34.05778884887695, \"long\": -118.44778442382812, \"running_late\": false, \"color\": [0, 255, 0]}, {\"trip_id\": 846782, \"lat\": 34.01519012451172, \"long\": -118.49363708496094, \"running_late\": false, \"color\": [0, 255, 0]}, {\"trip_id\": 846783, \"lat\": 33.981849670410156, \"long\": -118.46045684814453, \"running_late\": true, \"color\": [255, 0, 0]}, {\"trip_id\": 846805, \"lat\": 34.00258255004883, \"long\": -118.48013305664062, \"running_late\": false, \"color\": [0, 255, 0]}, {\"trip_id\": 846806, \"lat\": 34.069091796875, \"long\": -118.44536590576172, \"running_late\": true, \"color\": [255, 0, 0]}, {\"trip_id\": 846879, \"lat\": 34.026668548583984, \"long\": -118.48863983154297, \"running_late\": true, \"color\": [255, 0, 0]}, {\"trip_id\": 846880, \"lat\": 34.017208099365234, \"long\": -118.47364044189453, \"running_late\": false, \"color\": [0, 255, 0]}, {\"trip_id\": 847720, \"lat\": 34.0267448425293, \"long\": -118.39009094238281, \"running_late\": true, \"color\": [255, 0, 0]}, {\"trip_id\": 847721, \"lat\": 34.031436920166016, \"long\": -118.39981842041016, \"running_late\": true, \"color\": [255, 0, 0]}, {\"trip_id\": 847722, \"lat\": 34.035125732421875, \"long\": -118.43534851074219, \"running_late\": true, \"color\": [255, 0, 0]}, {\"trip_id\": 847722, \"lat\": 34.035125732421875, \"long\": -118.43534851074219, \"running_late\": true, \"color\": [255, 0, 0]}, {\"trip_id\": 847723, \"lat\": 34.06706619262695, \"long\": -118.44271850585938, \"running_late\": true, \"color\": [255, 0, 0]}, {\"trip_id\": 847763, \"lat\": 34.06794738769531, \"long\": -118.44047546386719, \"running_late\": true, \"color\": [255, 0, 0]}, {\"trip_id\": 847764, \"lat\": 34.03675842285156, \"long\": -118.43534851074219, \"running_late\": false, \"color\": [0, 255, 0]}, {\"trip_id\": 847866, \"lat\": 34.00969314575195, \"long\": -118.4872055053711, \"running_late\": true, \"color\": [255, 0, 0]}, {\"trip_id\": 847867, \"lat\": 34.02838134765625, \"long\": -118.45214080810547, \"running_late\": true, \"color\": [255, 0, 0]}, {\"trip_id\": 847868, \"lat\": 34.053131103515625, \"long\": -118.37548828125, \"running_late\": false, \"color\": [0, 255, 0]}, {\"trip_id\": 847869, \"lat\": 34.04821014404297, \"long\": -118.33116912841797, \"running_late\": false, \"color\": [0, 255, 0]}, {\"trip_id\": 847870, \"lat\": 34.06447219848633, \"long\": -118.31352233886719, \"running_late\": false, \"color\": [0, 255, 0]}, {\"trip_id\": 847871, \"lat\": 34.06468200683594, \"long\": -118.31350708007812, \"running_late\": \"unscheduled\", \"color\": [60, 220, 255]}, {\"trip_id\": 847920, \"lat\": 34.015933990478516, \"long\": -118.4945297241211, \"running_late\": false, \"color\": [0, 255, 0]}, {\"trip_id\": 847921, \"lat\": 34.023860931396484, \"long\": -118.46143341064453, \"running_late\": false, \"color\": [0, 255, 0]}, {\"trip_id\": 847922, \"lat\": 34.055301666259766, \"long\": -118.3927230834961, \"running_late\": true, \"color\": [255, 0, 0]}, {\"trip_id\": 847923, \"lat\": 34.051727294921875, \"long\": -118.36732482910156, \"running_late\": true, \"color\": [255, 0, 0]}, {\"trip_id\": 847924, \"lat\": 34.0572395324707, \"long\": -118.32162475585938, \"running_late\": false, \"color\": [0, 255, 0]}, {\"trip_id\": 847981, \"lat\": 34.066741943359375, \"long\": -118.44511413574219, \"running_late\": false, \"color\": [0, 255, 0]}, {\"trip_id\": 847982, \"lat\": 34.04108810424805, \"long\": -118.42930603027344, \"running_late\": false, \"color\": [0, 255, 0]}, {\"trip_id\": 847983, \"lat\": 34.01922607421875, \"long\": -118.40725708007812, \"running_late\": false, \"color\": [0, 255, 0]}, {\"trip_id\": 847984, \"lat\": 34.02659606933594, \"long\": -118.40870666503906, \"running_late\": false, \"color\": [0, 255, 0]}, {\"trip_id\": 848056, \"lat\": 34.018531799316406, \"long\": -118.40679931640625, \"running_late\": false, \"color\": [0, 255, 0]}, {\"trip_id\": 848057, \"lat\": 34.0459098815918, \"long\": -118.43356323242188, \"running_late\": true, \"color\": [255, 0, 0]}, {\"trip_id\": 848058, \"lat\": 34.06880569458008, \"long\": -118.44501495361328, \"running_late\": true, \"color\": [255, 0, 0]}, {\"trip_id\": 848121, \"lat\": 34.011817932128906, \"long\": -118.48406219482422, \"running_late\": true, \"color\": [255, 0, 0]}, {\"trip_id\": 848123, \"lat\": 34.01194381713867, \"long\": -118.48381042480469, \"running_late\": false, \"color\": [0, 255, 0]}, {\"trip_id\": 848124, \"lat\": 34.03676986694336, \"long\": -118.43574523925781, \"running_late\": false, \"color\": [0, 255, 0]}, {\"trip_id\": 848125, \"lat\": 34.05335235595703, \"long\": -118.37577056884766, \"running_late\": true, \"color\": [255, 0, 0]}, {\"trip_id\": 848126, \"lat\": 34.05036544799805, \"long\": -118.36139678955078, \"running_late\": false, \"color\": [0, 255, 0]}, {\"trip_id\": 848127, \"lat\": 34.06295394897461, \"long\": -118.30828857421875, \"running_late\": false, \"color\": [0, 255, 0]}, {\"trip_id\": 848128, \"lat\": 34.06303787231445, \"long\": -118.30802154541016, \"running_late\": true, \"color\": [255, 0, 0]}, {\"trip_id\": 848187, \"lat\": 34.04791259765625, \"long\": -118.327880859375, \"running_late\": false, \"color\": [0, 255, 0]}, {\"trip_id\": 848188, \"lat\": 34.05375671386719, \"long\": -118.37869262695312, \"running_late\": false, \"color\": [0, 255, 0]}, {\"trip_id\": 848189, \"lat\": 34.03998947143555, \"long\": -118.42874908447266, \"running_late\": false, \"color\": [0, 255, 0]}, {\"trip_id\": 848192, \"lat\": 34.015037536621094, \"long\": -118.48811340332031, \"running_late\": true, \"color\": [255, 0, 0]}, {\"trip_id\": 848193, \"lat\": 34.01511764526367, \"long\": -118.48820495605469, \"running_late\": true, \"color\": [255, 0, 0]}, {\"trip_id\": 848194, \"lat\": 34.014888763427734, \"long\": -118.48783111572266, \"running_late\": true, \"color\": [255, 0, 0]}]}}, {\"mode\": \"vega-lite\"});\n",
       "</script>"
      ],
      "text/plain": [
       "alt.Chart(...)"
      ]
     },
     "metadata": {},
     "output_type": "display_data"
    },
    {
     "data": {
      "text/plain": [
       "'waited 30 seconds for updates'"
      ]
     },
     "metadata": {},
     "output_type": "display_data"
    }
   ],
   "source": [
    "all_tasks = asyncio.all_tasks()\n",
    "for task in all_tasks:\n",
    "    task.cancel()\n",
    "\n",
    "async def do():\n",
    "    while True:\n",
    "        records = update_df()\n",
    "        display(alt.Chart(map_df).mark_bar().encode(\n",
    "            x='running_late',\n",
    "            y='count(running_late)'\n",
    "        ))\n",
    "        realtime_layer.data = records\n",
    "        r.update()\n",
    "        display(\"waited 30 seconds for updates\")\n",
    "        await asyncio.sleep(30)\n",
    "\n",
    "asyncio.create_task(do());"
   ]
  }
 ],
 "metadata": {
  "kernelspec": {
   "display_name": "Python 3",
   "language": "python",
   "name": "python3"
  },
  "language_info": {
   "codemirror_mode": {
    "name": "ipython",
    "version": 3
   },
   "file_extension": ".py",
   "mimetype": "text/x-python",
   "name": "python",
   "nbconvert_exporter": "python",
   "pygments_lexer": "ipython3",
   "version": "3.7.9"
  }
 },
 "nbformat": 4,
 "nbformat_minor": 5
}
