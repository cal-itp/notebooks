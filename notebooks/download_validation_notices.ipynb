{
 "cells": [
  {
   "cell_type": "markdown",
   "metadata": {},
   "source": [
    "## Setup"
   ]
  },
  {
   "cell_type": "code",
   "execution_count": 1,
   "metadata": {},
   "outputs": [],
   "source": [
    "from siuba.sql import LazyTbl\n",
    "from siuba import *\n",
    "from sqlalchemy import create_engine\n",
    "import pandas as pd\n",
    "\n",
    "import ipywidgets as widgets\n",
    "from ipywidgets import interact\n",
    "\n",
    "from IPython.display import display, FileLink"
   ]
  },
  {
   "cell_type": "code",
   "execution_count": 2,
   "metadata": {},
   "outputs": [],
   "source": [
    "engine = create_engine(\"bigquery://cal-itp-data-infra\")"
   ]
  },
  {
   "cell_type": "markdown",
   "metadata": {},
   "source": [
    "## Create tables"
   ]
  },
  {
   "cell_type": "code",
   "execution_count": 4,
   "metadata": {},
   "outputs": [],
   "source": [
    "tbl_status = LazyTbl(engine, \"gtfs_schedule.calitp_status\")\n",
    "tbl_validation_notices = LazyTbl(engine, 'test_views.validation_notices')\n",
    "sheet = pd.read_csv(\"https://docs.google.com/spreadsheets/d/105oar4q_Z3yihDeUlP-VnYpJ0N9Mfs7-q4TnribqYLU/gviz/tq?tqx=out:csv&gid=471807468\")"
   ]
  },
  {
   "cell_type": "markdown",
   "metadata": {},
   "source": [
    "## Fetch district specific validator results"
   ]
  },
  {
   "cell_type": "code",
   "execution_count": 5,
   "metadata": {},
   "outputs": [],
   "source": [
    "options = sheet[\"Caltrans District\"].dropna().sort_values().astype(int).unique()"
   ]
  },
  {
   "cell_type": "code",
   "execution_count": 6,
   "metadata": {},
   "outputs": [],
   "source": [
    "def get_district_validations(district):\n",
    "    district = sheet[lambda d: d[\"Caltrans District\"] == district]\n",
    "    itp_ids = district.ITP_ID.astype(int).tolist()\n",
    "\n",
    "    itp_id_str = \", \".join(map(str, itp_ids))\n",
    "\n",
    "    tbl_notices_subset = (\n",
    "        tbl_validation_notices\n",
    "        >> filter(_.calitp_itp_id.isin(itp_ids))\n",
    "        >> left_join(\n",
    "            _,\n",
    "            tbl_status >> select(_.itp_id, _.url_number, _.agency_name),\n",
    "            {\"calitp_itp_id\": \"itp_id\", \"calitp_url_number\": \"url_number\"},\n",
    "        )\n",
    "        # move useful columns to the left\n",
    "        >> select(_.calitp_itp_id, _.calitp_url_number, _.agency_name, _.contains(\"\"))\n",
    "    )\n",
    "    \n",
    "    return tbl_notices_subset >> collect()\n"
   ]
  },
  {
   "cell_type": "code",
   "execution_count": 8,
   "metadata": {},
   "outputs": [
    {
     "data": {
      "application/vnd.jupyter.widget-view+json": {
       "model_id": "b814d7cc17c34ef880fc7184c4faab0d",
       "version_major": 2,
       "version_minor": 0
      },
      "text/plain": [
       "interactive(children=(Dropdown(description='district', options=(1, 2, 3, 4, 5, 6, 7, 8, 9, 10, 11, 12), value=…"
      ]
     },
     "metadata": {},
     "output_type": "display_data"
    }
   ],
   "source": [
    "@interact(district=options)\n",
    "def ui_download_validations(district):\n",
    "    print(\"getting results...\")\n",
    "    df = get_district_validations(district)\n",
    "    \n",
    "    fname = \"./district_%s_validations.csv\" % int(district)\n",
    "    df.to_csv(fname)\n",
    "    return FileLink(fname, result_html_prefix=\"Download file: \")"
   ]
  }
 ],
 "metadata": {
  "kernelspec": {
   "display_name": "venv-notebooks",
   "language": "python",
   "name": "venv-notebooks"
  },
  "language_info": {
   "codemirror_mode": {
    "name": "ipython",
    "version": 3
   },
   "file_extension": ".py",
   "mimetype": "text/x-python",
   "name": "python",
   "nbconvert_exporter": "python",
   "pygments_lexer": "ipython3",
   "version": "3.6.8"
  }
 },
 "nbformat": 4,
 "nbformat_minor": 4
}
