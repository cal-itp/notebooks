{
 "cells": [
  {
   "cell_type": "markdown",
   "metadata": {
    "tags": [
     "hide"
    ]
   },
   "source": [
    "## Setup"
   ]
  },
  {
   "cell_type": "code",
   "execution_count": 15,
   "metadata": {},
   "outputs": [],
   "source": [
    "# analytics ----\n",
    "from siuba.sql import LazyTbl\n",
    "from siuba import *\n",
    "from sqlalchemy import create_engine\n",
    "import pandas as pd\n",
    "\n",
    "# widgets ----\n",
    "import ipywidgets as widgets\n",
    "from ipywidgets import interact\n",
    "from IPython.display import display, FileLink\n",
    "\n",
    "# warnings ----\n",
    "import warnings\n",
    "\n",
    "warnings.filterwarnings(\"ignore\")"
   ]
  },
  {
   "cell_type": "code",
   "execution_count": 2,
   "metadata": {},
   "outputs": [],
   "source": [
    "engine = create_engine(\"bigquery://cal-itp-data-infra\")"
   ]
  },
  {
   "cell_type": "markdown",
   "metadata": {
    "tags": [
     "hide"
    ]
   },
   "source": [
    "## Create tables"
   ]
  },
  {
   "cell_type": "code",
   "execution_count": 3,
   "metadata": {},
   "outputs": [
    {
     "name": "stderr",
     "output_type": "stream",
     "text": [
      "/opt/conda/lib/python3.9/site-packages/google/cloud/bigquery/client.py:461: UserWarning: Cannot create BigQuery Storage client, the dependency google-cloud-bigquery-storage is not installed.\n",
      "  warnings.warn(\n",
      "/opt/conda/lib/python3.9/site-packages/pybigquery/sqlalchemy_bigquery.py:524: SAWarning: Did not recognize type 'BIGNUMERIC' of column 'shapeDistTraveled'\n",
      "  util.warn(\n",
      "/opt/conda/lib/python3.9/site-packages/pybigquery/sqlalchemy_bigquery.py:524: SAWarning: Did not recognize type 'BIGNUMERIC' of column 'prevShapeDistTraveled'\n",
      "  util.warn(\n",
      "/opt/conda/lib/python3.9/site-packages/pybigquery/sqlalchemy_bigquery.py:524: SAWarning: Did not recognize type 'BIGNUMERIC' of column 'prevStopTimeDistTraveled'\n",
      "  util.warn(\n",
      "/opt/conda/lib/python3.9/site-packages/pybigquery/sqlalchemy_bigquery.py:524: SAWarning: Did not recognize type 'BIGNUMERIC' of column 'speedkmh'\n",
      "  util.warn(\n"
     ]
    }
   ],
   "source": [
    "tbl_status = LazyTbl(engine, \"gtfs_schedule.calitp_status\")\n",
    "tbl_validation_notices = LazyTbl(engine, 'test_views.validation_notices')\n",
    "sheet = pd.read_csv(\"https://docs.google.com/spreadsheets/d/105oar4q_Z3yihDeUlP-VnYpJ0N9Mfs7-q4TnribqYLU/gviz/tq?tqx=out:csv&gid=471807468\")"
   ]
  },
  {
   "cell_type": "markdown",
   "metadata": {},
   "source": [
    "## Fetch district specific validator results"
   ]
  },
  {
   "cell_type": "code",
   "execution_count": 4,
   "metadata": {},
   "outputs": [],
   "source": [
    "def get_district_validations(district, agency_itp_id=None):\n",
    "    if agency_itp_id is None:\n",
    "        df_district = sheet[lambda d: d[\"Caltrans District\"] == district]\n",
    "        itp_ids = df_district.ITP_ID.astype(int).tolist()\n",
    "    else:\n",
    "        itp_ids = [agency_itp_id]\n",
    "\n",
    "    itp_id_str = \", \".join(map(str, itp_ids))\n",
    "\n",
    "    tbl_notices_subset = (\n",
    "        tbl_validation_notices\n",
    "        >> filter(_.calitp_itp_id.isin(itp_ids))\n",
    "        >> left_join(\n",
    "            _,\n",
    "            tbl_status >> select(_.itp_id, _.url_number, _.agency_name),\n",
    "            {\"calitp_itp_id\": \"itp_id\", \"calitp_url_number\": \"url_number\"},\n",
    "        )\n",
    "        # move useful columns to the left\n",
    "        >> select(_.calitp_itp_id, _.calitp_url_number, _.agency_name, _.contains(\"\"))\n",
    "    )\n",
    "    \n",
    "    return tbl_notices_subset >> collect()\n"
   ]
  },
  {
   "cell_type": "code",
   "execution_count": 12,
   "metadata": {},
   "outputs": [],
   "source": [
    "def ui_download_validations(district, agency, output):\n",
    "    with output:\n",
    "        if district is None:\n",
    "            print(\"Select a district to download\")\n",
    "            return\n",
    "\n",
    "        display(\"getting results...\")\n",
    "        df = get_district_validations(district)\n",
    "\n",
    "        fname = \"./district_%s_validations.csv\" % int(district)\n",
    "        df.to_csv(fname)\n",
    "        \n",
    "        display(FileLink(fname, result_html_prefix=\"Download file: \"))"
   ]
  },
  {
   "cell_type": "code",
   "execution_count": 13,
   "metadata": {},
   "outputs": [],
   "source": [
    "options = sheet[\"Caltrans District\"].dropna().sort_values().astype(int).unique()\n",
    "\n",
    "w_district = widgets.Dropdown(options = [None, *options])\n",
    "w_agency = widgets.Dropdown()\n",
    "w_run = widgets.Button(description=\"Run\")\n",
    "w_out = widgets.Output()\n",
    "\n",
    "\n",
    "def update_agency(change):\n",
    "    df_district = sheet[sheet[\"Caltrans District\"] == w_district.value]\n",
    "    agency_ids = df_district.sort_values(\"Agency\")[[\"Agency\", \"ITP_ID\"]].dropna()\n",
    "    \n",
    "    itp_ids = agency_ids[\"ITP_ID\"].astype(int)\n",
    "    agencies = agency_ids[\"Agency\"]\n",
    "    \n",
    "    w_agency.options = [(\"All agencies\", None), *zip(agencies, itp_ids)]\n",
    "    w_agency.index = 0\n",
    "\n",
    "w_district.observe(update_agency, \"value\")\n",
    "\n",
    "w_run.on_click(\n",
    "    lambda btn: ui_download_validations(w_district.value, w_agency.value, w_out)\n",
    ")"
   ]
  },
  {
   "cell_type": "code",
   "execution_count": 14,
   "metadata": {},
   "outputs": [
    {
     "data": {
      "application/vnd.jupyter.widget-view+json": {
       "model_id": "85643c3625694981acf3cd67b6d48ae5",
       "version_major": 2,
       "version_minor": 0
      },
      "text/plain": [
       "Dropdown(options=(None, 1, 2, 3, 4, 5, 6, 7, 8, 9, 10, 11, 12), value=None)"
      ]
     },
     "metadata": {},
     "output_type": "display_data"
    },
    {
     "data": {
      "application/vnd.jupyter.widget-view+json": {
       "model_id": "4d048e0cea4644388ebc73126c4be1d7",
       "version_major": 2,
       "version_minor": 0
      },
      "text/plain": [
       "Dropdown(options=(), value=None)"
      ]
     },
     "metadata": {},
     "output_type": "display_data"
    },
    {
     "data": {
      "application/vnd.jupyter.widget-view+json": {
       "model_id": "8e63a4d4dd1e4094955187f62721ad8a",
       "version_major": 2,
       "version_minor": 0
      },
      "text/plain": [
       "Button(description='Run', style=ButtonStyle())"
      ]
     },
     "metadata": {},
     "output_type": "display_data"
    },
    {
     "data": {
      "application/vnd.jupyter.widget-view+json": {
       "model_id": "161986b30ae84b1ea1923c319b2be332",
       "version_major": 2,
       "version_minor": 0
      },
      "text/plain": [
       "Output()"
      ]
     },
     "metadata": {},
     "output_type": "display_data"
    }
   ],
   "source": [
    "display(w_district, w_agency, w_run, w_out)"
   ]
  }
 ],
 "metadata": {
  "kernelspec": {
   "display_name": "venv-notebooks",
   "language": "python",
   "name": "venv-notebooks"
  },
  "language_info": {
   "codemirror_mode": {
    "name": "ipython",
    "version": 3
   },
   "file_extension": ".py",
   "mimetype": "text/x-python",
   "name": "python",
   "nbconvert_exporter": "python",
   "pygments_lexer": "ipython3",
   "version": "3.6.8"
  }
 },
 "nbformat": 4,
 "nbformat_minor": 4
}
