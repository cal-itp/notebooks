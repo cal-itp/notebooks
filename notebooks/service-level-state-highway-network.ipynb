{
 "cells": [
  {
   "cell_type": "markdown",
   "id": "robust-value",
   "metadata": {},
   "source": [
    "# Statewide SHN and GTFS LOS data \n",
    "Let's make some optional mapping about where the SHN and trans service interact "
   ]
  },
  {
   "cell_type": "code",
   "execution_count": 10,
   "id": "biological-revision",
   "metadata": {},
   "outputs": [],
   "source": [
    "import geopandas as gpd\n",
    "import ibis\n",
    "import pandas as pd\n",
    "import pydeck as pdk\n",
    "from ipyleaflet import Map, GeoData, basemaps, LayersControl\n",
    "import json"
   ]
  },
  {
   "cell_type": "code",
   "execution_count": 11,
   "id": "crude-protest",
   "metadata": {},
   "outputs": [],
   "source": [
    "web_mercator = 'epsg:4326'\n",
    "ca_albers = 'epsg:3488'"
   ]
  },
  {
   "cell_type": "code",
   "execution_count": 12,
   "id": "identical-collar",
   "metadata": {},
   "outputs": [],
   "source": [
    "shn = gpd.read_file('https://opendata.arcgis.com/datasets/77f2d7ba94e040a78bfbe36feb6279da_0.geojson')"
   ]
  },
  {
   "cell_type": "code",
   "execution_count": 13,
   "id": "opponent-ranking",
   "metadata": {},
   "outputs": [],
   "source": [
    "conn = ibis.bigquery.connect(\n",
    "    project_id='cal-itp-data-infra',\n",
    "    dataset_id='gtfs_schedule')"
   ]
  },
  {
   "cell_type": "code",
   "execution_count": 14,
   "id": "structural-referral",
   "metadata": {},
   "outputs": [],
   "source": [
    "stops = conn.table('stops')"
   ]
  },
  {
   "cell_type": "code",
   "execution_count": 15,
   "id": "announced-watershed",
   "metadata": {},
   "outputs": [],
   "source": [
    "stops_df = stops.execute(limit=None)"
   ]
  },
  {
   "cell_type": "code",
   "execution_count": 16,
   "id": "intense-bankruptcy",
   "metadata": {},
   "outputs": [],
   "source": [
    "stops_gdf = gpd.GeoDataFrame(stops_df, geometry=gpd.points_from_xy(stops_df.stop_lon, stops_df.stop_lat))"
   ]
  },
  {
   "cell_type": "markdown",
   "id": "artificial-cyprus",
   "metadata": {},
   "source": [
    "# Map of Stops and the SHN"
   ]
  },
  {
   "cell_type": "code",
   "execution_count": 25,
   "id": "fleet-lloyd",
   "metadata": {},
   "outputs": [],
   "source": [
    "shn_data = GeoData(geo_dataframe = shn,\n",
    "                   style={'color': 'purple', 'opacity':3, 'weight':1.9, 'dashArray':'2', 'fillOpacity':0.6},\n",
    "                   hover_style={'fillColor': 'red' , 'fillOpacity': 0.2},\n",
    "                   name = 'State Highway Network')\n",
    "stops_data = GeoData(geo_dataframe = stops_gdf.set_crs(web_mercator),\n",
    "                        style={'color': 'black', 'radius':.1, 'fillColor': '#3366cc', 'opacity':0.5, 'weight':1.9, 'dashArray':'2', 'fillOpacity':0.6},\n",
    "                        hover_style={'fillColor': 'red' , 'fillOpacity': 0.2},\n",
    "                        point_style={'radius': 1, 'color': 'red', 'fillOpacity': 0.8, 'fillColor': 'blue', 'weight': 3},\n",
    "                        name = 'Release')"
   ]
  },
  {
   "cell_type": "code",
   "execution_count": 26,
   "id": "collect-insulation",
   "metadata": {},
   "outputs": [
    {
     "data": {
      "application/vnd.jupyter.widget-view+json": {
       "model_id": "e145ff5113ff4f6c96a082fc6c18119b",
       "version_major": 2,
       "version_minor": 0
      },
      "text/plain": [
       "Map(center=[36.7783, -118.0], controls=(ZoomControl(options=['position', 'zoom_in_text', 'zoom_in_title', 'zoo…"
      ]
     },
     "metadata": {},
     "output_type": "display_data"
    }
   ],
   "source": [
    "m = Map(center=(36.7783,-118.0), zoom = 3, basemap= basemaps.Esri.WorldTopoMap)\n",
    "m.add_layer(shn_data)\n",
    "m.add_layer(stops_data)\n",
    "m"
   ]
  },
  {
   "cell_type": "code",
   "execution_count": null,
   "id": "lasting-plumbing",
   "metadata": {},
   "outputs": [],
   "source": []
  }
 ],
 "metadata": {
  "kernelspec": {
   "display_name": "Python 3",
   "language": "python",
   "name": "python3"
  },
  "language_info": {
   "codemirror_mode": {
    "name": "ipython",
    "version": 3
   },
   "file_extension": ".py",
   "mimetype": "text/x-python",
   "name": "python",
   "nbconvert_exporter": "python",
   "pygments_lexer": "ipython3",
   "version": "3.7.9"
  }
 },
 "nbformat": 4,
 "nbformat_minor": 5
}
