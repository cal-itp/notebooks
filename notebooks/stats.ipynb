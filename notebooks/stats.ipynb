{
 "cells": [
  {
   "cell_type": "markdown",
   "id": "peripheral-warrant",
   "metadata": {},
   "source": [
    "# Determine some statewide GTFS stats\n",
    "Using the transit stop and internal trillium research list"
   ]
  },
  {
   "cell_type": "code",
   "execution_count": 6,
   "id": "excessive-recipient",
   "metadata": {},
   "outputs": [],
   "source": [
    "import pandas as pd\n",
    "import intake"
   ]
  },
  {
   "cell_type": "code",
   "execution_count": 4,
   "id": "nasty-virus",
   "metadata": {},
   "outputs": [],
   "source": [
    "df = pd.read_csv('https://raw.githubusercontent.com/cal-itp/transit-stop/dev/data/providers/providers.csv') "
   ]
  },
  {
   "cell_type": "code",
   "execution_count": 5,
   "id": "proper-trouble",
   "metadata": {},
   "outputs": [
    {
     "data": {
      "text/plain": [
       "62.86407766990291"
      ]
     },
     "execution_count": 5,
     "metadata": {},
     "output_type": "execute_result"
    }
   ],
   "source": [
    "df.gtfs.isnull().sum() * 100 / len(df)"
   ]
  },
  {
   "cell_type": "code",
   "execution_count": 10,
   "id": "broke-julian",
   "metadata": {},
   "outputs": [
    {
     "data": {
      "text/plain": [
       "412"
      ]
     },
     "execution_count": 10,
     "metadata": {},
     "output_type": "execute_result"
    }
   ],
   "source": [
    "len(df)"
   ]
  },
  {
   "cell_type": "markdown",
   "id": "comprehensive-finance",
   "metadata": {},
   "source": [
    "Trillium List"
   ]
  },
  {
   "cell_type": "code",
   "execution_count": 11,
   "id": "median-celebrity",
   "metadata": {},
   "outputs": [],
   "source": [
    "df2 = catalog.repository.read()"
   ]
  },
  {
   "cell_type": "code",
   "execution_count": 12,
   "id": "extended-pacific",
   "metadata": {},
   "outputs": [
    {
     "data": {
      "text/plain": [
       "48.54368932038835"
      ]
     },
     "execution_count": 12,
     "metadata": {},
     "output_type": "execute_result"
    }
   ],
   "source": [
    "df.upt_dr.isnull().sum()  * 100 / len(df)"
   ]
  },
  {
   "cell_type": "code",
   "execution_count": 13,
   "id": "narrow-penny",
   "metadata": {},
   "outputs": [
    {
     "data": {
      "text/plain": [
       "259"
      ]
     },
     "execution_count": 13,
     "metadata": {},
     "output_type": "execute_result"
    }
   ],
   "source": [
    "df.gtfs.isnull().sum() "
   ]
  },
  {
   "cell_type": "code",
   "execution_count": 14,
   "id": "endless-alexandria",
   "metadata": {},
   "outputs": [
    {
     "data": {
      "text/plain": [
       "True     146\n",
       "False     64\n",
       "Name: GTFS, dtype: int64"
      ]
     },
     "execution_count": 14,
     "metadata": {},
     "output_type": "execute_result"
    }
   ],
   "source": [
    "df2.GTFS.str.startswith('http').value_counts()"
   ]
  },
  {
   "cell_type": "code",
   "execution_count": 15,
   "id": "jewish-temple",
   "metadata": {},
   "outputs": [
    {
     "data": {
      "text/plain": [
       "False    194\n",
       "True      16\n",
       "Name: GTFS, dtype: int64"
      ]
     },
     "execution_count": 15,
     "metadata": {},
     "output_type": "execute_result"
    }
   ],
   "source": [
    "df2.GTFS.str.startswith('In').value_counts()"
   ]
  },
  {
   "cell_type": "code",
   "execution_count": 16,
   "id": "civilian-tongue",
   "metadata": {},
   "outputs": [
    {
     "data": {
      "text/plain": [
       "False    164\n",
       "True      46\n",
       "Name: GTFS, dtype: int64"
      ]
     },
     "execution_count": 16,
     "metadata": {},
     "output_type": "execute_result"
    }
   ],
   "source": [
    "df2.GTFS.str.startswith('Not').value_counts()"
   ]
  },
  {
   "cell_type": "code",
   "execution_count": 17,
   "id": "injured-madonna",
   "metadata": {},
   "outputs": [
    {
     "data": {
      "text/plain": [
       "yes    167\n",
       "no      43\n",
       "Name: Does the agency produce static GTFS data?, dtype: int64"
      ]
     },
     "execution_count": 17,
     "metadata": {},
     "output_type": "execute_result"
    }
   ],
   "source": [
    "df2['Does the agency produce static GTFS data?'].value_counts()"
   ]
  },
  {
   "cell_type": "code",
   "execution_count": 18,
   "id": "minor-certificate",
   "metadata": {},
   "outputs": [
    {
     "data": {
      "text/plain": [
       "yes    0.795238\n",
       "no     0.204762\n",
       "Name: Does the agency produce static GTFS data?, dtype: float64"
      ]
     },
     "execution_count": 18,
     "metadata": {},
     "output_type": "execute_result"
    }
   ],
   "source": [
    "df2['Does the agency produce static GTFS data?'].value_counts(normalize=True)"
   ]
  },
  {
   "cell_type": "code",
   "execution_count": null,
   "id": "cellular-trouble",
   "metadata": {},
   "outputs": [],
   "source": []
  }
 ],
 "metadata": {
  "kernelspec": {
   "display_name": "Python 3",
   "language": "python",
   "name": "python3"
  },
  "language_info": {
   "codemirror_mode": {
    "name": "ipython",
    "version": 3
   },
   "file_extension": ".py",
   "mimetype": "text/x-python",
   "name": "python",
   "nbconvert_exporter": "python",
   "pygments_lexer": "ipython3",
   "version": "3.9.1"
  }
 },
 "nbformat": 4,
 "nbformat_minor": 5
}
