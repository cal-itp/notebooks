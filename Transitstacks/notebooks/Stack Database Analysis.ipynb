{
 "cells": [
  {
   "cell_type": "markdown",
   "id": "9920ce56",
   "metadata": {},
   "source": [
    "# Transit Stack Data Resource Explorer\n",
    "<br>\n",
    "\n",
    "<font color='red'>\n",
    "*NOTE: Data used in this notebook is licensed under [CC-BY-SA-NC-4.0](https://creativecommons.org/licenses/by-nc-sa/4.0/)\n",
    "</font>\n",
    "\n",
    "#### More information about this data and resource can be found at http://github.com/cal-itp/notebooks/transitstacks/README.md\n"
   ]
  },
  {
   "cell_type": "code",
   "execution_count": 1,
   "id": "411dfb03",
   "metadata": {},
   "outputs": [],
   "source": [
    "import pandas as pd\n",
    "\n",
    "try:\n",
    "    import transitstacks as ts\n",
    "except:\n",
    "    ! pip install -e ..\n",
    "    import transitstacks as ts"
   ]
  },
  {
   "cell_type": "code",
   "execution_count": 2,
   "id": "6f9efb17",
   "metadata": {},
   "outputs": [],
   "source": [
    "%load_ext autoreload\n",
    "%autoreload 2"
   ]
  },
  {
   "cell_type": "markdown",
   "id": "4eac7add",
   "metadata": {},
   "source": [
    "## Import Stack Data\n",
    "Transit stack data can be read from local csvs or directly from the google sheet using one of the following methods as shown.\n",
    "The data can be filtered to records using they keyword argument filter_dict = { <column name>: <must equal value> }"
   ]
  },
  {
   "cell_type": "code",
   "execution_count": 3,
   "id": "96ff692f",
   "metadata": {},
   "outputs": [],
   "source": [
    "stack_dict = ts.read_stack_from_gsheets()\n",
    "stack = ts.Stack(stack_dict)"
   ]
  },
  {
   "cell_type": "code",
   "execution_count": 4,
   "id": "1ca0a34b",
   "metadata": {},
   "outputs": [
    {
     "data": {
      "text/plain": [
       "Stack Object:\n",
       " Providers: \n",
       " - GET Bus\n",
       " - Tahoe Transportation\n",
       " - El Dorado Transit\n",
       " - B-Line\n",
       " - South County Transit Link\n",
       " - Gold Country Stage\n",
       " - Roseville Transit\n",
       " - Sacramento Regional Transit District\n",
       " - Unitrans\n",
       " - Yuba-Sutter Transit Authority\n",
       " Vendors: 30\n",
       " Components: 25"
      ]
     },
     "execution_count": 4,
     "metadata": {},
     "output_type": "execute_result"
    }
   ],
   "source": [
    "stack"
   ]
  },
  {
   "cell_type": "markdown",
   "id": "bfab61d6",
   "metadata": {},
   "source": [
    "## Explore stacks\n",
    "\n",
    "Data is split into two main datatables:\n",
    "\n",
    " 1. `components_df` which describes the individual components of a transit stack\n",
    " 2. `relationships_df` which describes the relationship between two components of a transit stack"
   ]
  },
  {
   "cell_type": "code",
   "execution_count": 19,
   "id": "f8ca75d8",
   "metadata": {},
   "outputs": [
    {
     "name": "stdout",
     "output_type": "stream",
     "text": [
      "Enabling notebook extension qgrid/extension...\n",
      "      - Validating: \u001b[32mOK\u001b[0m\n",
      "Enabling notebook extension jupyter-js-widgets/extension...\n",
      "      - Validating: \u001b[32mOK\u001b[0m\n"
     ]
    }
   ],
   "source": [
    "try:\n",
    "    import qgrid\n",
    "except:\n",
    "    !conda install qgrid\n",
    "    import qgrid\n",
    "!jupyter nbextension enable --py --sys-prefix qgrid\n",
    "!jupyter nbextension enable --py --sys-prefix widgetsnbextension"
   ]
  },
  {
   "cell_type": "code",
   "execution_count": 20,
   "id": "129b50c0",
   "metadata": {},
   "outputs": [
    {
     "data": {
      "application/vnd.jupyter.widget-view+json": {
       "model_id": "5942ee751f8441aea6095a86e47626d5",
       "version_major": 2,
       "version_minor": 0
      },
      "text/plain": [
       "QgridWidget(grid_options={'fullWidthRows': True, 'syncColumnCellResize': True, 'forceFitColumns': False, 'defa…"
      ]
     },
     "metadata": {},
     "output_type": "display_data"
    }
   ],
   "source": [
    "qgrid.show_grid(stack.components_df,grid_options={'forceFitColumns': False})"
   ]
  },
  {
   "cell_type": "code",
   "execution_count": 21,
   "id": "797540a4",
   "metadata": {},
   "outputs": [
    {
     "data": {
      "application/vnd.jupyter.widget-view+json": {
       "model_id": "c26ab54511ed4c2b88d553df292cf57a",
       "version_major": 2,
       "version_minor": 0
      },
      "text/plain": [
       "QgridWidget(grid_options={'fullWidthRows': True, 'syncColumnCellResize': True, 'forceFitColumns': False, 'defa…"
      ]
     },
     "metadata": {},
     "output_type": "display_data"
    }
   ],
   "source": [
    "qgrid.show_grid(stack.relationships_df,grid_options={'forceFitColumns': False})"
   ]
  },
  {
   "cell_type": "code",
   "execution_count": null,
   "id": "30b07605",
   "metadata": {},
   "outputs": [],
   "source": []
  }
 ],
 "metadata": {
  "kernelspec": {
   "display_name": "Python 3",
   "language": "python",
   "name": "python3"
  },
  "language_info": {
   "codemirror_mode": {
    "name": "ipython",
    "version": 3
   },
   "file_extension": ".py",
   "mimetype": "text/x-python",
   "name": "python",
   "nbconvert_exporter": "python",
   "pygments_lexer": "ipython3",
   "version": "3.7.10"
  }
 },
 "nbformat": 4,
 "nbformat_minor": 5
}
